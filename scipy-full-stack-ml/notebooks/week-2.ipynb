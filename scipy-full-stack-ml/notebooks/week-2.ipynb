{
 "cells": [
  {
   "attachments": {},
   "cell_type": "markdown",
   "metadata": {},
   "source": [
    "# Week 2: Designing Machine Learning Workflows"
   ]
  },
  {
   "attachments": {},
   "cell_type": "markdown",
   "metadata": {},
   "source": [
    "___\n",
    "- Thinking from Engineer POV: what does it mean to build this application from an engineering context?\n",
    "- How to build ML workflows with Metaflow\n",
    "- Versioning, model reporting, and notebooks\n",
    "- Iterative approach to building ML workflows\n",
    "___"
   ]
  },
  {
   "attachments": {},
   "cell_type": "markdown",
   "metadata": {},
   "source": [
    "## Engineer POV"
   ]
  },
  {
   "attachments": {},
   "cell_type": "markdown",
   "metadata": {},
   "source": [
    "## Building ML workflows with Metaflow\n",
    "\n",
    "An improved version of the flow:\n",
    "- Leave the baseline in a separate branch\n",
    "- Create a step that performs basic featurization\n",
    "- Train/test split\n",
    "- Train a model\n",
    "- Produce predictions\n"
   ]
  },
  {
   "attachments": {},
   "cell_type": "markdown",
   "metadata": {},
   "source": [
    "## The Unreasonable Effective of Branching Flows"
   ]
  },
  {
   "attachments": {},
   "cell_type": "markdown",
   "metadata": {},
   "source": [
    "Often, you'll want to train several independent models and then choose the best one. As they're indepedendent, you can train them in parallel. For this, you can use the concept of branching, which is exemplified in this figure:\n"
   ]
  },
  {
   "attachments": {},
   "cell_type": "markdown",
   "metadata": {},
   "source": [
    "<img src=\"../img/flow_ex_0.png\" alt=\"DAG\" style=\"width: 400px;\"/>"
   ]
  },
  {
   "attachments": {},
   "cell_type": "markdown",
   "metadata": {},
   "source": [
    "Let's now do this in Metaflow by writing a flow that has random forests, decision trees, and extra trees classifiers, trains them all and chooses the best one."
   ]
  },
  {
   "attachments": {},
   "cell_type": "markdown",
   "metadata": {},
   "source": [
    "The following flow so that it has random forests, decision trees, and extra trees classifiers, trains them all and chooses the best one."
   ]
  },
  {
   "cell_type": "code",
   "execution_count": 1,
   "metadata": {},
   "outputs": [
    {
     "name": "stdout",
     "output_type": "stream",
     "text": [
      "Overwriting ../flows/local/tree_branch_flow.py\n"
     ]
    }
   ],
   "source": [
    "%%writefile ../flows/local/tree_branch_flow.py\n",
    "\n",
    "from metaflow import FlowSpec, step, card\n",
    "\n",
    "class Branch_Flow(FlowSpec):\n",
    "    \"\"\"\n",
    "    train multiple tree based methods\n",
    "    \"\"\"\n",
    "    @card \n",
    "    @step\n",
    "    def start(self):\n",
    "        \"\"\"\n",
    "        Load the data\n",
    "        \"\"\"\n",
    "        #Import scikit-learn dataset library\n",
    "        from sklearn import datasets\n",
    "\n",
    "        #Load dataset\n",
    "        self.iris = datasets.load_iris()\n",
    "        self.X = self.iris['data']\n",
    "        self.y = self.iris['target']\n",
    "        self.next(self.rf_model, self.xt_model, self.dt_model)\n",
    "    \n",
    "                \n",
    "    @step\n",
    "    def rf_model(self):\n",
    "        \"\"\"\n",
    "        build random forest model\n",
    "        \"\"\"\n",
    "        from sklearn.ensemble import RandomForestClassifier\n",
    "        from sklearn.model_selection import cross_val_score\n",
    "        \n",
    "        self.clf = RandomForestClassifier(n_estimators=10, max_depth=None,\n",
    "            min_samples_split=2, random_state=0)\n",
    "        self.scores = cross_val_score(self.clf, self.X, self.y, cv=5)\n",
    "        self.next(self.choose_model)\n",
    "\n",
    "    @step\n",
    "    def xt_model(self):\n",
    "        \"\"\"\n",
    "        build extra trees classifier\n",
    "        \"\"\"\n",
    "        from sklearn.ensemble import ExtraTreesClassifier\n",
    "        from sklearn.model_selection import cross_val_score\n",
    "        \n",
    "\n",
    "        self.clf = ExtraTreesClassifier(n_estimators=10, max_depth=None,\n",
    "            min_samples_split=2, random_state=0)\n",
    "\n",
    "        self.scores = cross_val_score(self.clf, self.X, self.y, cv=5)\n",
    "        self.next(self.choose_model)\n",
    "\n",
    "    @step\n",
    "    def dt_model(self):\n",
    "        \"\"\"\n",
    "        build decision tree classifier\n",
    "        \"\"\"\n",
    "        from sklearn.tree import DecisionTreeClassifier\n",
    "        from sklearn.model_selection import cross_val_score\n",
    "        \n",
    "        self.clf = DecisionTreeClassifier(max_depth=None, min_samples_split=2,\n",
    "            random_state=0)\n",
    "\n",
    "        self.scores = cross_val_score(self.clf, self.X, self.y, cv=5)\n",
    "\n",
    "        self.next(self.choose_model)\n",
    "                        \n",
    "    @step\n",
    "    def choose_model(self, inputs):\n",
    "        \"\"\"\n",
    "        find 'best' model\n",
    "        \"\"\"\n",
    "        import numpy as np\n",
    "\n",
    "        def score(inp):\n",
    "            return inp.clf,\\\n",
    "                   np.mean(inp.scores)\n",
    "\n",
    "            \n",
    "        self.results = sorted(map(score, inputs), key=lambda x: -x[1]) \n",
    "        self.model = self.results[0][0]\n",
    "        self.next(self.end)\n",
    "        \n",
    "    @step\n",
    "    def end(self):\n",
    "        \"\"\"\n",
    "        End of flow!\n",
    "        \"\"\"\n",
    "        print('Scores:')\n",
    "        print('\\n'.join('%s %f' % res for res in self.results))\n",
    "        print('Best model:')\n",
    "        print(self.model)\n",
    "\n",
    "\n",
    "if __name__ == \"__main__\":\n",
    "    Branch_Flow()"
   ]
  },
  {
   "attachments": {},
   "cell_type": "markdown",
   "metadata": {},
   "source": [
    "Execute the above from the command line with\n",
    "\n",
    "```bash\n",
    "python flows/local/tree_branch_flow.py run\n",
    "```"
   ]
  },
  {
   "cell_type": "code",
   "execution_count": 2,
   "metadata": {},
   "outputs": [
    {
     "name": "stdout",
     "output_type": "stream",
     "text": [
      "\u001b[35m\u001b[1mMetaflow 2.7.21.4\u001b[0m\u001b[35m\u001b[22m executing \u001b[0m\u001b[31m\u001b[1mBranch_Flow\u001b[0m\u001b[35m\u001b[22m\u001b[0m\u001b[35m\u001b[22m for \u001b[0m\u001b[31m\u001b[1muser:sandbox\u001b[0m\u001b[35m\u001b[22m\u001b[K\u001b[0m\u001b[35m\u001b[22m\u001b[0m\n",
      "\u001b[35m\u001b[22mValidating your flow...\u001b[K\u001b[0m\u001b[35m\u001b[22m\u001b[0m\n",
      "\u001b[32m\u001b[1m    The graph looks good!\u001b[K\u001b[0m\u001b[32m\u001b[1m\u001b[0m\n",
      "\u001b[35m\u001b[22mRunning pylint...\u001b[K\u001b[0m\u001b[35m\u001b[22m\u001b[0m\n",
      "\u001b[32m\u001b[1m    Pylint is happy!\u001b[K\u001b[0m\u001b[32m\u001b[1m\u001b[0m\n",
      "\u001b[35m2023-04-05 17:07:31.533 \u001b[0m\u001b[1mWorkflow starting (run-id 32), see it in the UI at https://ui-pw-233796051.outerbounds.dev/Branch_Flow/32\u001b[0m\n",
      "\u001b[35m2023-04-05 17:07:31.841 \u001b[0m\u001b[32m[32/start/152 (pid 28289)] \u001b[0m\u001b[1mTask is starting.\u001b[0m\n",
      "\u001b[35m2023-04-05 17:07:39.485 \u001b[0m\u001b[32m[32/start/152 (pid 28289)] \u001b[0m\u001b[1mTask finished successfully.\u001b[0m\n",
      "\u001b[35m2023-04-05 17:07:39.806 \u001b[0m\u001b[32m[32/rf_model/153 (pid 28450)] \u001b[0m\u001b[1mTask is starting.\u001b[0m\n",
      "\u001b[35m2023-04-05 17:07:40.037 \u001b[0m\u001b[32m[32/xt_model/154 (pid 28453)] \u001b[0m\u001b[1mTask is starting.\u001b[0m\n",
      "\u001b[35m2023-04-05 17:07:40.239 \u001b[0m\u001b[32m[32/dt_model/155 (pid 28457)] \u001b[0m\u001b[1mTask is starting.\u001b[0m\n",
      "\u001b[35m2023-04-05 17:07:47.149 \u001b[0m\u001b[32m[32/rf_model/153 (pid 28450)] \u001b[0m\u001b[1mTask finished successfully.\u001b[0m\n",
      "\u001b[35m2023-04-05 17:07:47.528 \u001b[0m\u001b[32m[32/xt_model/154 (pid 28453)] \u001b[0m\u001b[1mTask finished successfully.\u001b[0m\n",
      "\u001b[35m2023-04-05 17:07:47.943 \u001b[0m\u001b[32m[32/dt_model/155 (pid 28457)] \u001b[0m\u001b[1mTask finished successfully.\u001b[0m\n",
      "\u001b[35m2023-04-05 17:07:48.441 \u001b[0m\u001b[32m[32/choose_model/156 (pid 28756)] \u001b[0m\u001b[1mTask is starting.\u001b[0m\n",
      "\u001b[35m2023-04-05 17:07:53.637 \u001b[0m\u001b[32m[32/choose_model/156 (pid 28756)] \u001b[0m\u001b[1mTask finished successfully.\u001b[0m\n",
      "\u001b[35m2023-04-05 17:07:54.032 \u001b[0m\u001b[32m[32/end/157 (pid 28858)] \u001b[0m\u001b[1mTask is starting.\u001b[0m\n",
      "\u001b[35m2023-04-05 17:07:55.804 \u001b[0m\u001b[32m[32/end/157 (pid 28858)] \u001b[0m\u001b[22mScores:\u001b[0m\n",
      "\u001b[35m2023-04-05 17:07:56.292 \u001b[0m\u001b[32m[32/end/157 (pid 28858)] \u001b[0m\u001b[22mDecisionTreeClassifier(random_state=0) 0.960000\u001b[0m\n",
      "\u001b[35m2023-04-05 17:07:56.349 \u001b[0m\u001b[32m[32/end/157 (pid 28858)] \u001b[0m\u001b[22mRandomForestClassifier(n_estimators=10, random_state=0) 0.953333\u001b[0m\n",
      "\u001b[35m2023-04-05 17:07:56.349 \u001b[0m\u001b[32m[32/end/157 (pid 28858)] \u001b[0m\u001b[22mExtraTreesClassifier(n_estimators=10, random_state=0) 0.953333\u001b[0m\n",
      "\u001b[35m2023-04-05 17:07:56.349 \u001b[0m\u001b[32m[32/end/157 (pid 28858)] \u001b[0m\u001b[22mBest model:\u001b[0m\n",
      "\u001b[35m2023-04-05 17:07:56.349 \u001b[0m\u001b[32m[32/end/157 (pid 28858)] \u001b[0m\u001b[22mDecisionTreeClassifier(random_state=0)\u001b[0m\n",
      "\u001b[35m2023-04-05 17:07:57.527 \u001b[0m\u001b[32m[32/end/157 (pid 28858)] \u001b[0m\u001b[1mTask finished successfully.\u001b[0m\n",
      "\u001b[35m2023-04-05 17:07:57.695 \u001b[0m\u001b[1mDone! See the run in the UI at https://ui-pw-233796051.outerbounds.dev/Branch_Flow/32\u001b[0m\n"
     ]
    }
   ],
   "source": [
    "! python ../flows/local/tree_branch_flow.py run"
   ]
  },
  {
   "attachments": {},
   "cell_type": "markdown",
   "metadata": {},
   "source": [
    "We can also view the Metaflow card:\n",
    "\n",
    "```\n",
    "python flows/local/tree_branch_flow.py card view start\n",
    "```"
   ]
  },
  {
   "cell_type": "code",
   "execution_count": 3,
   "metadata": {},
   "outputs": [
    {
     "name": "stdout",
     "output_type": "stream",
     "text": [
      "\u001b[35m\u001b[1mMetaflow 2.7.21.4\u001b[0m\u001b[35m\u001b[22m executing \u001b[0m\u001b[31m\u001b[1mBranch_Flow\u001b[0m\u001b[35m\u001b[22m\u001b[0m\u001b[35m\u001b[22m for \u001b[0m\u001b[31m\u001b[1muser:sandbox\u001b[0m\u001b[35m\u001b[22m\u001b[K\u001b[0m\u001b[35m\u001b[22m\u001b[0m\n",
      "\u001b[32m\u001b[22mResolving card: Branch_Flow/32/start/152\u001b[K\u001b[0m\u001b[32m\u001b[22m\u001b[0m\n"
     ]
    }
   ],
   "source": [
    "! python ../flows/local/tree_branch_flow.py card view start"
   ]
  },
  {
   "attachments": {},
   "cell_type": "markdown",
   "metadata": {},
   "source": [
    "## Branching flows with the Titanic"
   ]
  },
  {
   "cell_type": "code",
   "execution_count": 4,
   "metadata": {},
   "outputs": [
    {
     "data": {
      "text/html": [
       "<div>\n",
       "<style scoped>\n",
       "    .dataframe tbody tr th:only-of-type {\n",
       "        vertical-align: middle;\n",
       "    }\n",
       "\n",
       "    .dataframe tbody tr th {\n",
       "        vertical-align: top;\n",
       "    }\n",
       "\n",
       "    .dataframe thead th {\n",
       "        text-align: right;\n",
       "    }\n",
       "</style>\n",
       "<table border=\"1\" class=\"dataframe\">\n",
       "  <thead>\n",
       "    <tr style=\"text-align: right;\">\n",
       "      <th></th>\n",
       "      <th>PassengerId</th>\n",
       "      <th>Survived</th>\n",
       "      <th>Pclass</th>\n",
       "      <th>Name</th>\n",
       "      <th>Sex</th>\n",
       "      <th>Age</th>\n",
       "      <th>SibSp</th>\n",
       "      <th>Parch</th>\n",
       "      <th>Ticket</th>\n",
       "      <th>Fare</th>\n",
       "      <th>Cabin</th>\n",
       "      <th>Embarked</th>\n",
       "    </tr>\n",
       "  </thead>\n",
       "  <tbody>\n",
       "    <tr>\n",
       "      <th>0</th>\n",
       "      <td>1</td>\n",
       "      <td>0</td>\n",
       "      <td>3</td>\n",
       "      <td>Braund, Mr. Owen Harris</td>\n",
       "      <td>male</td>\n",
       "      <td>22.0</td>\n",
       "      <td>1</td>\n",
       "      <td>0</td>\n",
       "      <td>A/5 21171</td>\n",
       "      <td>7.2500</td>\n",
       "      <td>NaN</td>\n",
       "      <td>S</td>\n",
       "    </tr>\n",
       "    <tr>\n",
       "      <th>1</th>\n",
       "      <td>2</td>\n",
       "      <td>1</td>\n",
       "      <td>1</td>\n",
       "      <td>Cumings, Mrs. John Bradley (Florence Briggs Th...</td>\n",
       "      <td>female</td>\n",
       "      <td>38.0</td>\n",
       "      <td>1</td>\n",
       "      <td>0</td>\n",
       "      <td>PC 17599</td>\n",
       "      <td>71.2833</td>\n",
       "      <td>C85</td>\n",
       "      <td>C</td>\n",
       "    </tr>\n",
       "    <tr>\n",
       "      <th>2</th>\n",
       "      <td>3</td>\n",
       "      <td>1</td>\n",
       "      <td>3</td>\n",
       "      <td>Heikkinen, Miss. Laina</td>\n",
       "      <td>female</td>\n",
       "      <td>26.0</td>\n",
       "      <td>0</td>\n",
       "      <td>0</td>\n",
       "      <td>STON/O2. 3101282</td>\n",
       "      <td>7.9250</td>\n",
       "      <td>NaN</td>\n",
       "      <td>S</td>\n",
       "    </tr>\n",
       "    <tr>\n",
       "      <th>3</th>\n",
       "      <td>4</td>\n",
       "      <td>1</td>\n",
       "      <td>1</td>\n",
       "      <td>Futrelle, Mrs. Jacques Heath (Lily May Peel)</td>\n",
       "      <td>female</td>\n",
       "      <td>35.0</td>\n",
       "      <td>1</td>\n",
       "      <td>0</td>\n",
       "      <td>113803</td>\n",
       "      <td>53.1000</td>\n",
       "      <td>C123</td>\n",
       "      <td>S</td>\n",
       "    </tr>\n",
       "    <tr>\n",
       "      <th>4</th>\n",
       "      <td>5</td>\n",
       "      <td>0</td>\n",
       "      <td>3</td>\n",
       "      <td>Allen, Mr. William Henry</td>\n",
       "      <td>male</td>\n",
       "      <td>35.0</td>\n",
       "      <td>0</td>\n",
       "      <td>0</td>\n",
       "      <td>373450</td>\n",
       "      <td>8.0500</td>\n",
       "      <td>NaN</td>\n",
       "      <td>S</td>\n",
       "    </tr>\n",
       "  </tbody>\n",
       "</table>\n",
       "</div>"
      ],
      "text/plain": [
       "   PassengerId  Survived  Pclass  \\\n",
       "0            1         0       3   \n",
       "1            2         1       1   \n",
       "2            3         1       3   \n",
       "3            4         1       1   \n",
       "4            5         0       3   \n",
       "\n",
       "                                                Name     Sex   Age  SibSp  \\\n",
       "0                            Braund, Mr. Owen Harris    male  22.0      1   \n",
       "1  Cumings, Mrs. John Bradley (Florence Briggs Th...  female  38.0      1   \n",
       "2                             Heikkinen, Miss. Laina  female  26.0      0   \n",
       "3       Futrelle, Mrs. Jacques Heath (Lily May Peel)  female  35.0      1   \n",
       "4                           Allen, Mr. William Henry    male  35.0      0   \n",
       "\n",
       "   Parch            Ticket     Fare Cabin Embarked  \n",
       "0      0         A/5 21171   7.2500   NaN        S  \n",
       "1      0          PC 17599  71.2833   C85        C  \n",
       "2      0  STON/O2. 3101282   7.9250   NaN        S  \n",
       "3      0            113803  53.1000  C123        S  \n",
       "4      0            373450   8.0500   NaN        S  "
      ]
     },
     "execution_count": 4,
     "metadata": {},
     "output_type": "execute_result"
    }
   ],
   "source": [
    "import pandas as pd\n",
    "import matplotlib.pyplot as plt\n",
    "import seaborn as sns\n",
    "sns.set()\n",
    "\n",
    "df = pd.read_csv('../data/titanic.csv')\n",
    "df.head()"
   ]
  },
  {
   "cell_type": "code",
   "execution_count": 5,
   "metadata": {},
   "outputs": [
    {
     "data": {
      "image/png": "[encoded data removed]",
      "text/plain": [
       "<Figure size 640x480 with 1 Axes>"
      ]
     },
     "metadata": {},
     "output_type": "display_data"
    }
   ],
   "source": [
    "sns.countplot(x='Sex', data=df);"
   ]
  },
  {
   "cell_type": "code",
   "execution_count": 6,
   "metadata": {},
   "outputs": [
    {
     "data": {
      "image/png": "[encoded data removed]",
      "text/plain": [
       "<Figure size 1000x500 with 2 Axes>"
      ]
     },
     "metadata": {},
     "output_type": "display_data"
    }
   ],
   "source": [
    "sns.catplot(x='Survived', col='Sex', kind='count', data=df);"
   ]
  },
  {
   "cell_type": "code",
   "execution_count": 7,
   "metadata": {},
   "outputs": [
    {
     "data": {
      "text/plain": [
       "0.6161616161616161"
      ]
     },
     "execution_count": 7,
     "metadata": {},
     "output_type": "execute_result"
    }
   ],
   "source": [
    "from sklearn.metrics import accuracy_score\n",
    "\n",
    "df['model_1'] = 0\n",
    "accuracy_score(df['Survived'], df['model_1'])"
   ]
  },
  {
   "cell_type": "code",
   "execution_count": 8,
   "metadata": {},
   "outputs": [
    {
     "data": {
      "text/plain": [
       "0.7867564534231201"
      ]
     },
     "execution_count": 8,
     "metadata": {},
     "output_type": "execute_result"
    }
   ],
   "source": [
    "df['model_2'] = df.Sex == 'female'\n",
    "accuracy_score(df['Survived'], df['model_2'])"
   ]
  },
  {
   "cell_type": "code",
   "execution_count": 9,
   "metadata": {},
   "outputs": [
    {
     "name": "stdout",
     "output_type": "stream",
     "text": [
      "Overwriting ../flows/local/titanic_flow_1.py\n"
     ]
    }
   ],
   "source": [
    "%%writefile ../flows/local/titanic_flow_1.py\n",
    "\n",
    "from metaflow import FlowSpec, step, card\n",
    "\n",
    "\n",
    "class TFlow1(FlowSpec):\n",
    "    \n",
    "    @card\n",
    "    @step\n",
    "    def start(self):\n",
    "        \"\"\"\n",
    "        Load the data & train model\n",
    "        \"\"\"\n",
    "        import pandas as pd\n",
    "        self.df = pd.read_csv('../data/titanic.csv')\n",
    "        self.next(self.predict)\n",
    "        \n",
    "    @step\n",
    "    def predict(self):\n",
    "        \"\"\"\n",
    "        make predictions\n",
    "        \"\"\"\n",
    "        import pandas as pd\n",
    "        from sklearn.metrics import accuracy_score\n",
    "        self.df['model_1'] = 0\n",
    "        self.score1 = accuracy_score(self.df['Survived'], self.df['model_1'])\n",
    "\n",
    "\n",
    "        self.next(self.end)\n",
    "        \n",
    "        \n",
    "    @step\n",
    "    def end(self):\n",
    "        \"\"\"\n",
    "        End of flow!\n",
    "        \"\"\"\n",
    "        print('Score = %s' % self.score1)\n",
    "\n",
    "\n",
    "if __name__ == \"__main__\":\n",
    "    TFlow1()"
   ]
  },
  {
   "cell_type": "code",
   "execution_count": 10,
   "metadata": {},
   "outputs": [
    {
     "name": "stdout",
     "output_type": "stream",
     "text": [
      "\u001b[35m\u001b[1mMetaflow 2.7.21.4\u001b[0m\u001b[35m\u001b[22m executing \u001b[0m\u001b[31m\u001b[1mTFlow1\u001b[0m\u001b[35m\u001b[22m\u001b[0m\u001b[35m\u001b[22m for \u001b[0m\u001b[31m\u001b[1muser:sandbox\u001b[0m\u001b[35m\u001b[22m\u001b[K\u001b[0m\u001b[35m\u001b[22m\u001b[0m\n",
      "\u001b[35m\u001b[22mValidating your flow...\u001b[K\u001b[0m\u001b[35m\u001b[22m\u001b[0m\n",
      "\u001b[32m\u001b[1m    The graph looks good!\u001b[K\u001b[0m\u001b[32m\u001b[1m\u001b[0m\n",
      "\u001b[35m\u001b[22mRunning pylint...\u001b[K\u001b[0m\u001b[35m\u001b[22m\u001b[0m\n",
      "\u001b[32m\u001b[1m    Pylint is happy!\u001b[K\u001b[0m\u001b[32m\u001b[1m\u001b[0m\n",
      "\u001b[35m2023-04-05 17:08:12.316 \u001b[0m\u001b[1mWorkflow starting (run-id 33), see it in the UI at https://ui-pw-233796051.outerbounds.dev/TFlow1/33\u001b[0m\n",
      "\u001b[35m2023-04-05 17:08:12.627 \u001b[0m\u001b[32m[33/start/159 (pid 29061)] \u001b[0m\u001b[1mTask is starting.\u001b[0m\n",
      "\u001b[35m2023-04-05 17:08:18.817 \u001b[0m\u001b[32m[33/start/159 (pid 29061)] \u001b[0m\u001b[1mTask finished successfully.\u001b[0m\n",
      "\u001b[35m2023-04-05 17:08:19.229 \u001b[0m\u001b[32m[33/predict/160 (pid 29195)] \u001b[0m\u001b[1mTask is starting.\u001b[0m\n",
      "\u001b[35m2023-04-05 17:08:22.790 \u001b[0m\u001b[32m[33/predict/160 (pid 29195)] \u001b[0m\u001b[1mTask finished successfully.\u001b[0m\n",
      "\u001b[35m2023-04-05 17:08:23.121 \u001b[0m\u001b[32m[33/end/161 (pid 29270)] \u001b[0m\u001b[1mTask is starting.\u001b[0m\n",
      "\u001b[35m2023-04-05 17:08:25.015 \u001b[0m\u001b[32m[33/end/161 (pid 29270)] \u001b[0m\u001b[22mScore = 0.6161616161616161\u001b[0m\n",
      "\u001b[35m2023-04-05 17:08:26.119 \u001b[0m\u001b[32m[33/end/161 (pid 29270)] \u001b[0m\u001b[1mTask finished successfully.\u001b[0m\n",
      "\u001b[35m2023-04-05 17:08:26.285 \u001b[0m\u001b[1mDone! See the run in the UI at https://ui-pw-233796051.outerbounds.dev/TFlow1/33\u001b[0m\n"
     ]
    }
   ],
   "source": [
    "! python ../flows/local/titanic_flow_1.py run"
   ]
  },
  {
   "cell_type": "code",
   "execution_count": 11,
   "metadata": {},
   "outputs": [
    {
     "name": "stdout",
     "output_type": "stream",
     "text": [
      "Overwriting ../flows/local/titanic_flow_2.py\n"
     ]
    }
   ],
   "source": [
    "%%writefile ../flows/local/titanic_flow_2.py\n",
    "\n",
    "from metaflow import FlowSpec, step, card\n",
    "\n",
    "\n",
    "class TFlow2(FlowSpec):\n",
    "    \"\"\"\n",
    "    train a boosted tree\n",
    "    \"\"\"\n",
    "    @card\n",
    "    @step\n",
    "    def start(self):\n",
    "        \n",
    "        import pandas as pd\n",
    "        self.df = pd.read_csv('../data/titanic.csv')\n",
    "        self.next(self.predict)\n",
    "        \n",
    "    @step\n",
    "    def predict(self):\n",
    "        \"\"\"\n",
    "        make predictions\n",
    "        \"\"\"\n",
    "        import pandas as pd\n",
    "        from sklearn.metrics import accuracy_score\n",
    "        self.df['model_2'] = self.df.Sex == 'female'\n",
    "        self.score2 = accuracy_score(self.df['Survived'], self.df['model_2'])\n",
    "\n",
    "\n",
    "        self.next(self.end)\n",
    "        \n",
    "        \n",
    "    @step\n",
    "    def end(self):\n",
    "        \"\"\"\n",
    "        End of flow!\n",
    "        \"\"\"\n",
    "        print('Score = %s' % self.score2)\n",
    "        \n",
    "        print(\"TFlow2 is all done.\")\n",
    "\n",
    "\n",
    "if __name__ == \"__main__\":\n",
    "    TFlow2()"
   ]
  },
  {
   "cell_type": "code",
   "execution_count": 12,
   "metadata": {},
   "outputs": [
    {
     "name": "stdout",
     "output_type": "stream",
     "text": [
      "\u001b[35m\u001b[1mMetaflow 2.7.21.4\u001b[0m\u001b[35m\u001b[22m executing \u001b[0m\u001b[31m\u001b[1mTFlow2\u001b[0m\u001b[35m\u001b[22m\u001b[0m\u001b[35m\u001b[22m for \u001b[0m\u001b[31m\u001b[1muser:sandbox\u001b[0m\u001b[35m\u001b[22m\u001b[K\u001b[0m\u001b[35m\u001b[22m\u001b[0m\n",
      "\u001b[35m\u001b[22mValidating your flow...\u001b[K\u001b[0m\u001b[35m\u001b[22m\u001b[0m\n",
      "\u001b[32m\u001b[1m    The graph looks good!\u001b[K\u001b[0m\u001b[32m\u001b[1m\u001b[0m\n",
      "\u001b[35m\u001b[22mRunning pylint...\u001b[K\u001b[0m\u001b[35m\u001b[22m\u001b[0m\n",
      "\u001b[32m\u001b[1m    Pylint is happy!\u001b[K\u001b[0m\u001b[32m\u001b[1m\u001b[0m\n",
      "\u001b[35m2023-04-05 17:08:34.959 \u001b[0m\u001b[1mWorkflow starting (run-id 34), see it in the UI at https://ui-pw-233796051.outerbounds.dev/TFlow2/34\u001b[0m\n",
      "\u001b[35m2023-04-05 17:08:35.290 \u001b[0m\u001b[32m[34/start/163 (pid 29383)] \u001b[0m\u001b[1mTask is starting.\u001b[0m\n",
      "\u001b[35m2023-04-05 17:08:41.221 \u001b[0m\u001b[32m[34/start/163 (pid 29383)] \u001b[0m\u001b[1mTask finished successfully.\u001b[0m\n",
      "\u001b[35m2023-04-05 17:08:41.578 \u001b[0m\u001b[32m[34/predict/164 (pid 29517)] \u001b[0m\u001b[1mTask is starting.\u001b[0m\n",
      "\u001b[35m2023-04-05 17:08:45.427 \u001b[0m\u001b[32m[34/predict/164 (pid 29517)] \u001b[0m\u001b[1mTask finished successfully.\u001b[0m\n",
      "\u001b[35m2023-04-05 17:08:45.729 \u001b[0m\u001b[32m[34/end/165 (pid 29592)] \u001b[0m\u001b[1mTask is starting.\u001b[0m\n",
      "\u001b[35m2023-04-05 17:08:47.503 \u001b[0m\u001b[32m[34/end/165 (pid 29592)] \u001b[0m\u001b[22mScore = 0.7867564534231201\u001b[0m\n",
      "\u001b[35m2023-04-05 17:08:48.239 \u001b[0m\u001b[32m[34/end/165 (pid 29592)] \u001b[0m\u001b[22mTFlow2 is all done.\u001b[0m\n",
      "\u001b[35m2023-04-05 17:08:48.609 \u001b[0m\u001b[32m[34/end/165 (pid 29592)] \u001b[0m\u001b[1mTask finished successfully.\u001b[0m\n",
      "\u001b[35m2023-04-05 17:08:48.755 \u001b[0m\u001b[1mDone! See the run in the UI at https://ui-pw-233796051.outerbounds.dev/TFlow2/34\u001b[0m\n"
     ]
    }
   ],
   "source": [
    "! python ../flows/local/titanic_flow_2.py run"
   ]
  },
  {
   "cell_type": "code",
   "execution_count": 13,
   "metadata": {},
   "outputs": [
    {
     "name": "stdout",
     "output_type": "stream",
     "text": [
      "Overwriting ../flows/local/titanic_flow_3.py\n"
     ]
    }
   ],
   "source": [
    "%%writefile ../flows/local/titanic_flow_3.py\n",
    "\n",
    "from metaflow import FlowSpec, step, card\n",
    "\n",
    "\n",
    "class TFlow3(FlowSpec):\n",
    "    \"\"\"\n",
    "    train a boosted tree\n",
    "    \"\"\"\n",
    "    @card\n",
    "    @step\n",
    "    def start(self):\n",
    "        \"\"\"\n",
    "        Load the data & train model\n",
    "        \"\"\"\n",
    "        import pandas as pd\n",
    "        self.df = pd.read_csv('../data/titanic.csv')\n",
    "        self.next(self.model1, self.model2)\n",
    "\n",
    "\n",
    "    @step\n",
    "    def model1(self):\n",
    "        \"\"\"\n",
    "        make predictions\n",
    "        \"\"\"\n",
    "        import pandas as pd\n",
    "        from sklearn.metrics import accuracy_score\n",
    "        self.clf = 'model_1'\n",
    "        self.df['model'] = 0\n",
    "        self.score = accuracy_score(self.df['Survived'], self.df['model'])\n",
    "\n",
    "        self.next(self.choose_model)\n",
    "        \n",
    "        \n",
    "    @step\n",
    "    def model2(self):\n",
    "        \"\"\"\n",
    "        make predictions\n",
    "        \"\"\"\n",
    "        import pandas as pd\n",
    "        from sklearn.metrics import accuracy_score\n",
    "        self.clf = 'model_2'\n",
    "        self.df['model'] = self.df.Sex == 'female'\n",
    "        self.score = accuracy_score(self.df['Survived'], self.df['model'])\n",
    "        \n",
    "        self.next(self.choose_model)\n",
    "        \n",
    "    @step\n",
    "    def choose_model(self, inputs):\n",
    "        \"\"\"\n",
    "        find 'best' model\n",
    "        \"\"\"\n",
    "        import numpy as np\n",
    "\n",
    "        def score(inp):\n",
    "            return inp.clf,\\\n",
    "                   inp.score\n",
    "\n",
    "            \n",
    "        self.results = sorted(map(score, inputs), key=lambda x: -x[1]) \n",
    "        self.model = self.results[0][0]\n",
    "        \n",
    "        self.next(self.end)\n",
    "\n",
    "\n",
    "    @step\n",
    "    def end(self):\n",
    "        \"\"\"\n",
    "        End of flow!\n",
    "        \"\"\"\n",
    "        print('Scores:')\n",
    "        print('\\n'.join('%s %f' % res for res in self.results))\n",
    "        print('Best model:')\n",
    "        print(self.model)\n",
    "        print(\"TFlow3 is all done.\")\n",
    "\n",
    "\n",
    "if __name__ == \"__main__\":\n",
    "    TFlow3()"
   ]
  },
  {
   "cell_type": "code",
   "execution_count": 14,
   "metadata": {},
   "outputs": [
    {
     "name": "stdout",
     "output_type": "stream",
     "text": [
      "\u001b[35m\u001b[1mMetaflow 2.7.21.4\u001b[0m\u001b[35m\u001b[22m executing \u001b[0m\u001b[31m\u001b[1mTFlow3\u001b[0m\u001b[35m\u001b[22m\u001b[0m\u001b[35m\u001b[22m for \u001b[0m\u001b[31m\u001b[1muser:sandbox\u001b[0m\u001b[35m\u001b[22m\u001b[K\u001b[0m\u001b[35m\u001b[22m\u001b[0m\n",
      "\u001b[35m\u001b[22mValidating your flow...\u001b[K\u001b[0m\u001b[35m\u001b[22m\u001b[0m\n",
      "\u001b[32m\u001b[1m    The graph looks good!\u001b[K\u001b[0m\u001b[32m\u001b[1m\u001b[0m\n",
      "\u001b[35m\u001b[22mRunning pylint...\u001b[K\u001b[0m\u001b[35m\u001b[22m\u001b[0m\n",
      "\u001b[32m\u001b[1m    Pylint is happy!\u001b[K\u001b[0m\u001b[32m\u001b[1m\u001b[0m\n",
      "\u001b[35m2023-04-05 17:08:57.157 \u001b[0m\u001b[1mWorkflow starting (run-id 35), see it in the UI at https://ui-pw-233796051.outerbounds.dev/TFlow3/35\u001b[0m\n",
      "\u001b[35m2023-04-05 17:08:57.501 \u001b[0m\u001b[32m[35/start/167 (pid 29705)] \u001b[0m\u001b[1mTask is starting.\u001b[0m\n",
      "\u001b[35m2023-04-05 17:09:03.403 \u001b[0m\u001b[32m[35/start/167 (pid 29705)] \u001b[0m\u001b[1mTask finished successfully.\u001b[0m\n",
      "\u001b[35m2023-04-05 17:09:03.753 \u001b[0m\u001b[32m[35/model1/168 (pid 29839)] \u001b[0m\u001b[1mTask is starting.\u001b[0m\n",
      "\u001b[35m2023-04-05 17:09:03.980 \u001b[0m\u001b[32m[35/model2/169 (pid 29842)] \u001b[0m\u001b[1mTask is starting.\u001b[0m\n",
      "\u001b[35m2023-04-05 17:09:09.400 \u001b[0m\u001b[32m[35/model1/168 (pid 29839)] \u001b[0m\u001b[1mTask finished successfully.\u001b[0m\n",
      "\u001b[35m2023-04-05 17:09:09.772 \u001b[0m\u001b[32m[35/model2/169 (pid 29842)] \u001b[0m\u001b[1mTask finished successfully.\u001b[0m\n",
      "\u001b[35m2023-04-05 17:09:10.168 \u001b[0m\u001b[32m[35/choose_model/170 (pid 30043)] \u001b[0m\u001b[1mTask is starting.\u001b[0m\n",
      "\u001b[35m2023-04-05 17:09:14.647 \u001b[0m\u001b[32m[35/choose_model/170 (pid 30043)] \u001b[0m\u001b[1mTask finished successfully.\u001b[0m\n",
      "\u001b[35m2023-04-05 17:09:15.021 \u001b[0m\u001b[32m[35/end/171 (pid 30145)] \u001b[0m\u001b[1mTask is starting.\u001b[0m\n",
      "\u001b[35m2023-04-05 17:09:16.743 \u001b[0m\u001b[32m[35/end/171 (pid 30145)] \u001b[0m\u001b[22mScores:\u001b[0m\n",
      "\u001b[35m2023-04-05 17:09:16.801 \u001b[0m\u001b[32m[35/end/171 (pid 30145)] \u001b[0m\u001b[22mmodel_2 0.786756\u001b[0m\n",
      "\u001b[35m2023-04-05 17:09:16.839 \u001b[0m\u001b[32m[35/end/171 (pid 30145)] \u001b[0m\u001b[22mmodel_1 0.616162\u001b[0m\n",
      "\u001b[35m2023-04-05 17:09:16.839 \u001b[0m\u001b[32m[35/end/171 (pid 30145)] \u001b[0m\u001b[22mBest model:\u001b[0m\n",
      "\u001b[35m2023-04-05 17:09:16.839 \u001b[0m\u001b[32m[35/end/171 (pid 30145)] \u001b[0m\u001b[22mmodel_2\u001b[0m\n",
      "\u001b[35m2023-04-05 17:09:17.633 \u001b[0m\u001b[32m[35/end/171 (pid 30145)] \u001b[0m\u001b[22mTFlow3 is all done.\u001b[0m\n",
      "\u001b[35m2023-04-05 17:09:17.915 \u001b[0m\u001b[32m[35/end/171 (pid 30145)] \u001b[0m\u001b[1mTask finished successfully.\u001b[0m\n",
      "\u001b[35m2023-04-05 17:09:18.109 \u001b[0m\u001b[1mDone! See the run in the UI at https://ui-pw-233796051.outerbounds.dev/TFlow3/35\u001b[0m\n"
     ]
    }
   ],
   "source": [
    "! python ../flows/local/titanic_flow_3.py run "
   ]
  },
  {
   "attachments": {},
   "cell_type": "markdown",
   "metadata": {},
   "source": [
    "A notebook (cell) that compares the baseline to the ML version: evaluating results across steps / versions using the Client API."
   ]
  },
  {
   "cell_type": "code",
   "execution_count": 15,
   "metadata": {},
   "outputs": [
    {
     "name": "stdout",
     "output_type": "stream",
     "text": [
      "True\n"
     ]
    }
   ],
   "source": [
    "from metaflow import Flow\n",
    "name = 'TFlow3'\n",
    "run = Flow(name).latest_run\n",
    "print(run.successful)"
   ]
  },
  {
   "cell_type": "code",
   "execution_count": 16,
   "metadata": {},
   "outputs": [
    {
     "name": "stdout",
     "output_type": "stream",
     "text": [
      "Run('TFlow3/35')\n"
     ]
    }
   ],
   "source": [
    "print(run)"
   ]
  },
  {
   "cell_type": "code",
   "execution_count": 17,
   "metadata": {},
   "outputs": [
    {
     "data": {
      "text/plain": [
       "[('model_2', 0.7867564534231201), ('model_1', 0.6161616161616161)]"
      ]
     },
     "execution_count": 17,
     "metadata": {},
     "output_type": "execute_result"
    }
   ],
   "source": [
    "run.data.results"
   ]
  },
  {
   "attachments": {},
   "cell_type": "markdown",
   "metadata": {},
   "source": [
    "## ML models"
   ]
  },
  {
   "cell_type": "code",
   "execution_count": 18,
   "metadata": {},
   "outputs": [
    {
     "name": "stdout",
     "output_type": "stream",
     "text": [
      "<class 'pandas.core.frame.DataFrame'>\n",
      "RangeIndex: 891 entries, 0 to 890\n",
      "Data columns (total 11 columns):\n",
      " #   Column       Non-Null Count  Dtype  \n",
      "---  ------       --------------  -----  \n",
      " 0   PassengerId  891 non-null    int64  \n",
      " 1   Pclass       891 non-null    int64  \n",
      " 2   Name         891 non-null    object \n",
      " 3   Sex          891 non-null    object \n",
      " 4   Age          891 non-null    float64\n",
      " 5   SibSp        891 non-null    int64  \n",
      " 6   Parch        891 non-null    int64  \n",
      " 7   Ticket       891 non-null    object \n",
      " 8   Fare         891 non-null    float64\n",
      " 9   Cabin        204 non-null    object \n",
      " 10  Embarked     889 non-null    object \n",
      "dtypes: float64(2), int64(4), object(5)\n",
      "memory usage: 76.7+ KB\n"
     ]
    }
   ],
   "source": [
    "df = pd.read_csv('../data/titanic.csv')\n",
    "\n",
    "\n",
    "# Store target variable of training data in a safe place\n",
    "survived = df.Survived\n",
    "df = df.drop(['Survived'], axis=1)\n",
    "\n",
    "# Impute missing numerical variables\n",
    "df['Age'] = df.Age.fillna(df.Age.median())\n",
    "df['Fare'] = df.Fare.fillna(df.Fare.median())\n",
    "\n",
    "# Check out info of data\n",
    "df.info()\n",
    "\n"
   ]
  },
  {
   "cell_type": "code",
   "execution_count": 19,
   "metadata": {},
   "outputs": [
    {
     "data": {
      "text/html": [
       "<div>\n",
       "<style scoped>\n",
       "    .dataframe tbody tr th:only-of-type {\n",
       "        vertical-align: middle;\n",
       "    }\n",
       "\n",
       "    .dataframe tbody tr th {\n",
       "        vertical-align: top;\n",
       "    }\n",
       "\n",
       "    .dataframe thead th {\n",
       "        text-align: right;\n",
       "    }\n",
       "</style>\n",
       "<table border=\"1\" class=\"dataframe\">\n",
       "  <thead>\n",
       "    <tr style=\"text-align: right;\">\n",
       "      <th></th>\n",
       "      <th>Sex_male</th>\n",
       "      <th>Fare</th>\n",
       "      <th>Age</th>\n",
       "      <th>Pclass</th>\n",
       "      <th>SibSp</th>\n",
       "    </tr>\n",
       "  </thead>\n",
       "  <tbody>\n",
       "    <tr>\n",
       "      <th>0</th>\n",
       "      <td>1</td>\n",
       "      <td>7.2500</td>\n",
       "      <td>22.0</td>\n",
       "      <td>3</td>\n",
       "      <td>1</td>\n",
       "    </tr>\n",
       "    <tr>\n",
       "      <th>1</th>\n",
       "      <td>0</td>\n",
       "      <td>71.2833</td>\n",
       "      <td>38.0</td>\n",
       "      <td>1</td>\n",
       "      <td>1</td>\n",
       "    </tr>\n",
       "    <tr>\n",
       "      <th>2</th>\n",
       "      <td>0</td>\n",
       "      <td>7.9250</td>\n",
       "      <td>26.0</td>\n",
       "      <td>3</td>\n",
       "      <td>0</td>\n",
       "    </tr>\n",
       "    <tr>\n",
       "      <th>3</th>\n",
       "      <td>0</td>\n",
       "      <td>53.1000</td>\n",
       "      <td>35.0</td>\n",
       "      <td>1</td>\n",
       "      <td>1</td>\n",
       "    </tr>\n",
       "    <tr>\n",
       "      <th>4</th>\n",
       "      <td>1</td>\n",
       "      <td>8.0500</td>\n",
       "      <td>35.0</td>\n",
       "      <td>3</td>\n",
       "      <td>0</td>\n",
       "    </tr>\n",
       "  </tbody>\n",
       "</table>\n",
       "</div>"
      ],
      "text/plain": [
       "   Sex_male     Fare   Age  Pclass  SibSp\n",
       "0         1   7.2500  22.0       3      1\n",
       "1         0  71.2833  38.0       1      1\n",
       "2         0   7.9250  26.0       3      0\n",
       "3         0  53.1000  35.0       1      1\n",
       "4         1   8.0500  35.0       3      0"
      ]
     },
     "execution_count": 19,
     "metadata": {},
     "output_type": "execute_result"
    }
   ],
   "source": [
    "df = pd.get_dummies(df, columns=['Sex'], drop_first=True)\n",
    "df = df[['Sex_male', 'Fare', 'Age','Pclass', 'SibSp']]\n",
    "df.head()"
   ]
  },
  {
   "cell_type": "code",
   "execution_count": 20,
   "metadata": {},
   "outputs": [
    {
     "name": "stdout",
     "output_type": "stream",
     "text": [
      "<class 'pandas.core.frame.DataFrame'>\n",
      "RangeIndex: 891 entries, 0 to 890\n",
      "Data columns (total 5 columns):\n",
      " #   Column    Non-Null Count  Dtype  \n",
      "---  ------    --------------  -----  \n",
      " 0   Sex_male  891 non-null    uint8  \n",
      " 1   Fare      891 non-null    float64\n",
      " 2   Age       891 non-null    float64\n",
      " 3   Pclass    891 non-null    int64  \n",
      " 4   SibSp     891 non-null    int64  \n",
      "dtypes: float64(2), int64(2), uint8(1)\n",
      "memory usage: 28.8 KB\n"
     ]
    }
   ],
   "source": [
    "df.info()"
   ]
  },
  {
   "cell_type": "code",
   "execution_count": 21,
   "metadata": {},
   "outputs": [],
   "source": [
    "X = df.values\n",
    "y = survived.values\n",
    "\n",
    "from sklearn.model_selection import train_test_split\n",
    "\n",
    "X_train, X_test, y_train, y_test = train_test_split(\n",
    "    X, y, test_size=0.33, random_state=42)\n"
   ]
  },
  {
   "cell_type": "code",
   "execution_count": 22,
   "metadata": {},
   "outputs": [
    {
     "data": {
      "text/plain": [
       "0.8203389830508474"
      ]
     },
     "execution_count": 22,
     "metadata": {},
     "output_type": "execute_result"
    }
   ],
   "source": [
    "from sklearn import tree\n",
    "\n",
    "# Instantiate model and fit to data\n",
    "clf = tree.DecisionTreeClassifier(max_depth=3)\n",
    "clf.fit(X_train, y_train)\n",
    "clf.score(X_test, y_test)"
   ]
  },
  {
   "cell_type": "code",
   "execution_count": 23,
   "metadata": {},
   "outputs": [
    {
     "name": "stdout",
     "output_type": "stream",
     "text": [
      "Overwriting ../flows/local/titanic_flow_4.py\n"
     ]
    }
   ],
   "source": [
    "%%writefile ../flows/local/titanic_flow_4.py\n",
    "\n",
    "from metaflow import FlowSpec, step, card\n",
    "\n",
    "\n",
    "class TFlow4(FlowSpec):\n",
    "    \"\"\"\n",
    "    train a boosted tree\n",
    "    \"\"\"\n",
    "    @card\n",
    "    @step\n",
    "    def start(self):\n",
    "        \"\"\"\n",
    "        Load the data & train model\n",
    "        \"\"\"\n",
    "        import pandas as pd\n",
    "        self.df = pd.read_csv('../data/titanic.csv')\n",
    "        self.next(self.model1, self.model2, self.data_prep)\n",
    "\n",
    "\n",
    "    @step\n",
    "    def model1(self):\n",
    "        \"\"\"\n",
    "        make predictions\n",
    "        \"\"\"\n",
    "        import pandas as pd\n",
    "        from sklearn.metrics import accuracy_score\n",
    "        self.clf = 'model_1'\n",
    "        self.df['model'] = 0\n",
    "        self.score = accuracy_score(self.df['Survived'], self.df['model'])\n",
    "\n",
    "        self.next(self.choose_model)\n",
    "        \n",
    "        \n",
    "    @step\n",
    "    def model2(self):\n",
    "        \"\"\"\n",
    "        make predictions\n",
    "        \"\"\"\n",
    "        import pandas as pd\n",
    "        from sklearn.metrics import accuracy_score\n",
    "        self.clf = 'model_2'\n",
    "        self.df['model'] = self.df.Sex == 'female'\n",
    "        self.score = accuracy_score(self.df['Survived'], self.df['model'])\n",
    "        \n",
    "        self.next(self.choose_model)\n",
    "\n",
    "    @step\n",
    "    def data_prep(self):\n",
    "        \"\"\"\n",
    "        prep data for tree-based model\n",
    "        \"\"\"\n",
    "        import pandas as pd\n",
    "        # Store target variable of training data in a safe place\n",
    "        survived = self.df.Survived\n",
    "\n",
    "        # \n",
    "        df = self.df.drop(['Survived'], axis=1)\n",
    "\n",
    "        # Impute missing numerical variables\n",
    "        df['Age'] = df.Age.fillna(df.Age.median())\n",
    "        df['Fare'] = df.Fare.fillna(df.Fare.median())\n",
    "\n",
    "        df = pd.get_dummies(df, columns=['Sex'], drop_first=True)\n",
    "        df = df[['Sex_male', 'Fare', 'Age','Pclass', 'SibSp']]\n",
    "\n",
    "        X = df.values\n",
    "        y = survived.values\n",
    "\n",
    "        from sklearn.model_selection import train_test_split\n",
    "\n",
    "        self.X_train, self.X_test, self.y_train, self.y_test = train_test_split(\n",
    "            X, y, test_size=0.33, random_state=42)\n",
    "\n",
    "\n",
    "\n",
    "        self.next(self.model3)\n",
    "\n",
    "\n",
    "    @step\n",
    "    def model3(self):\n",
    "        \"\"\"\n",
    "        make predictions\n",
    "        \"\"\"\n",
    "        from sklearn import tree\n",
    "\n",
    "        # Instantiate model and fit to data\n",
    "        self.clf = tree.DecisionTreeClassifier(max_depth=3)\n",
    "        self.clf.fit(self.X_train, self.y_train)\n",
    "        self.score = self.clf.score(self.X_test, self.y_test)\n",
    "\n",
    "        self.next(self.choose_model)\n",
    "        \n",
    "    @step\n",
    "    def choose_model(self, inputs):\n",
    "        \"\"\"\n",
    "        find 'best' model\n",
    "        \"\"\"\n",
    "        import numpy as np\n",
    "\n",
    "        def score(inp):\n",
    "            return inp.clf,\\\n",
    "                   inp.score\n",
    "\n",
    "            \n",
    "        self.results = sorted(map(score, inputs), key=lambda x: -x[1]) \n",
    "        self.model = self.results[0][0]\n",
    "        \n",
    "        self.next(self.end)\n",
    "\n",
    "\n",
    "    @step\n",
    "    def end(self):\n",
    "        \"\"\"\n",
    "        End of flow!\n",
    "        \"\"\"\n",
    "        print('Scores:')\n",
    "        print('\\n'.join('%s %f' % res for res in self.results))\n",
    "        print('Best model:')\n",
    "        print(self.model)\n",
    "        print(\"TFlow4 is all done.\")\n",
    "\n",
    "\n",
    "if __name__ == \"__main__\":\n",
    "    TFlow4()"
   ]
  },
  {
   "cell_type": "code",
   "execution_count": 24,
   "metadata": {},
   "outputs": [
    {
     "name": "stdout",
     "output_type": "stream",
     "text": [
      "\u001b[35m\u001b[1mMetaflow 2.7.21.4\u001b[0m\u001b[35m\u001b[22m executing \u001b[0m\u001b[31m\u001b[1mTFlow4\u001b[0m\u001b[35m\u001b[22m\u001b[0m\u001b[35m\u001b[22m for \u001b[0m\u001b[31m\u001b[1muser:sandbox\u001b[0m\u001b[35m\u001b[22m\u001b[K\u001b[0m\u001b[35m\u001b[22m\u001b[0m\n",
      "\u001b[35m\u001b[22mValidating your flow...\u001b[K\u001b[0m\u001b[35m\u001b[22m\u001b[0m\n",
      "\u001b[32m\u001b[1m    The graph looks good!\u001b[K\u001b[0m\u001b[32m\u001b[1m\u001b[0m\n",
      "\u001b[35m\u001b[22mRunning pylint...\u001b[K\u001b[0m\u001b[35m\u001b[22m\u001b[0m\n",
      "\u001b[32m\u001b[1m    Pylint is happy!\u001b[K\u001b[0m\u001b[32m\u001b[1m\u001b[0m\n",
      "\u001b[35m2023-04-05 17:09:28.378 \u001b[0m\u001b[1mWorkflow starting (run-id 36), see it in the UI at https://ui-pw-233796051.outerbounds.dev/TFlow4/36\u001b[0m\n",
      "\u001b[35m2023-04-05 17:09:28.703 \u001b[0m\u001b[32m[36/start/173 (pid 30266)] \u001b[0m\u001b[1mTask is starting.\u001b[0m\n",
      "\u001b[35m2023-04-05 17:09:34.970 \u001b[0m\u001b[32m[36/start/173 (pid 30266)] \u001b[0m\u001b[1mTask finished successfully.\u001b[0m\n",
      "\u001b[35m2023-04-05 17:09:35.406 \u001b[0m\u001b[32m[36/model1/174 (pid 30400)] \u001b[0m\u001b[1mTask is starting.\u001b[0m\n",
      "\u001b[35m2023-04-05 17:09:35.614 \u001b[0m\u001b[32m[36/model2/175 (pid 30403)] \u001b[0m\u001b[1mTask is starting.\u001b[0m\n",
      "\u001b[35m2023-04-05 17:09:35.833 \u001b[0m\u001b[32m[36/data_prep/176 (pid 30407)] \u001b[0m\u001b[1mTask is starting.\u001b[0m\n",
      "\u001b[35m2023-04-05 17:09:43.200 \u001b[0m\u001b[32m[36/model2/175 (pid 30403)] \u001b[0m\u001b[1mTask finished successfully.\u001b[0m\n",
      "\u001b[35m2023-04-05 17:09:43.551 \u001b[0m\u001b[32m[36/model1/174 (pid 30400)] \u001b[0m\u001b[1mTask finished successfully.\u001b[0m\n",
      "\u001b[35m2023-04-05 17:09:43.810 \u001b[0m\u001b[32m[36/data_prep/176 (pid 30407)] \u001b[0m\u001b[1mTask finished successfully.\u001b[0m\n",
      "\u001b[35m2023-04-05 17:09:44.409 \u001b[0m\u001b[32m[36/model3/177 (pid 30706)] \u001b[0m\u001b[1mTask is starting.\u001b[0m\n",
      "\u001b[35m2023-04-05 17:09:49.315 \u001b[0m\u001b[32m[36/model3/177 (pid 30706)] \u001b[0m\u001b[1mTask finished successfully.\u001b[0m\n",
      "\u001b[35m2023-04-05 17:09:49.663 \u001b[0m\u001b[32m[36/choose_model/178 (pid 30808)] \u001b[0m\u001b[1mTask is starting.\u001b[0m\n",
      "\u001b[35m2023-04-05 17:09:54.910 \u001b[0m\u001b[32m[36/choose_model/178 (pid 30808)] \u001b[0m\u001b[1mTask finished successfully.\u001b[0m\n",
      "\u001b[35m2023-04-05 17:09:55.268 \u001b[0m\u001b[32m[36/end/179 (pid 30910)] \u001b[0m\u001b[1mTask is starting.\u001b[0m\n",
      "\u001b[35m2023-04-05 17:09:57.123 \u001b[0m\u001b[32m[36/end/179 (pid 30910)] \u001b[0m\u001b[22mScores:\u001b[0m\n",
      "\u001b[35m2023-04-05 17:09:57.548 \u001b[0m\u001b[32m[36/end/179 (pid 30910)] \u001b[0m\u001b[22mDecisionTreeClassifier(max_depth=3) 0.820339\u001b[0m\n",
      "\u001b[35m2023-04-05 17:09:57.631 \u001b[0m\u001b[32m[36/end/179 (pid 30910)] \u001b[0m\u001b[22mmodel_2 0.786756\u001b[0m\n",
      "\u001b[35m2023-04-05 17:09:57.632 \u001b[0m\u001b[32m[36/end/179 (pid 30910)] \u001b[0m\u001b[22mmodel_1 0.616162\u001b[0m\n",
      "\u001b[35m2023-04-05 17:09:57.632 \u001b[0m\u001b[32m[36/end/179 (pid 30910)] \u001b[0m\u001b[22mBest model:\u001b[0m\n",
      "\u001b[35m2023-04-05 17:09:57.632 \u001b[0m\u001b[32m[36/end/179 (pid 30910)] \u001b[0m\u001b[22mDecisionTreeClassifier(max_depth=3)\u001b[0m\n",
      "\u001b[35m2023-04-05 17:09:58.497 \u001b[0m\u001b[32m[36/end/179 (pid 30910)] \u001b[0m\u001b[22mTFlow4 is all done.\u001b[0m\n",
      "\u001b[35m2023-04-05 17:09:58.728 \u001b[0m\u001b[32m[36/end/179 (pid 30910)] \u001b[0m\u001b[1mTask finished successfully.\u001b[0m\n",
      "\u001b[35m2023-04-05 17:09:58.922 \u001b[0m\u001b[1mDone! See the run in the UI at https://ui-pw-233796051.outerbounds.dev/TFlow4/36\u001b[0m\n"
     ]
    }
   ],
   "source": [
    "! python ../flows/local/titanic_flow_4.py run "
   ]
  },
  {
   "attachments": {},
   "cell_type": "markdown",
   "metadata": {},
   "source": [
    "## Iterative approach to building ML workflows: a scalable model"
   ]
  },
  {
   "attachments": {},
   "cell_type": "markdown",
   "metadata": {},
   "source": [
    "A flow that performs hyperparam search using foreach for the ML model, runs –with kubernetes, compare results in a notebook.\n",
    "\n",
    "How to improve model incrementally, benefits of the compute layer using Foreach, @resources, @kubernetes, @card."
   ]
  },
  {
   "cell_type": "code",
   "execution_count": 25,
   "metadata": {},
   "outputs": [
    {
     "data": {
      "image/png": "[encoded data removed]",
      "text/plain": [
       "<Figure size 640x480 with 1 Axes>"
      ]
     },
     "metadata": {},
     "output_type": "display_data"
    }
   ],
   "source": [
    "import numpy as np\n",
    "\n",
    "# Setup arrays to store train and test accuracies\n",
    "dep = np.arange(1, 9)\n",
    "train_accuracy = np.empty(len(dep))\n",
    "test_accuracy = np.empty(len(dep))\n",
    "\n",
    "# Loop over different values of k\n",
    "for i, k in enumerate(dep):\n",
    "    # Setup a tree classifier with max depth k\n",
    "    clf = tree.DecisionTreeClassifier(max_depth=k)\n",
    "\n",
    "    # Fit the classifier to the training data\n",
    "    clf.fit(X_train, y_train)\n",
    "    \n",
    "    #Compute accuracy on the training set\n",
    "    train_accuracy[i] = clf.score(X_train, y_train)\n",
    "\n",
    "    #Compute accuracy on the testing set\n",
    "    test_accuracy[i] = clf.score(X_test, y_test)\n",
    "\n",
    "# Generate plot\n",
    "plt.title('clf: Varying depth of tree')\n",
    "plt.plot(dep, test_accuracy, label = 'Testing Accuracy')\n",
    "plt.plot(dep, train_accuracy, label = 'Training Accuracy')\n",
    "plt.legend()\n",
    "plt.xlabel('Depth of tree')\n",
    "plt.ylabel('Accuracy')\n",
    "plt.show()"
   ]
  },
  {
   "cell_type": "code",
   "execution_count": 26,
   "metadata": {},
   "outputs": [
    {
     "name": "stdout",
     "output_type": "stream",
     "text": [
      "Overwriting ../flows/local/titanic_flow_5.py\n"
     ]
    }
   ],
   "source": [
    "%%writefile ../flows/local/titanic_flow_5.py\n",
    "\n",
    "from metaflow import FlowSpec, step, card\n",
    "\n",
    "\n",
    "class TFlow5(FlowSpec):\n",
    "    \"\"\"\n",
    "    train a boosted tree\n",
    "    \"\"\"\n",
    "    @card\n",
    "    @step\n",
    "    def start(self):\n",
    "        \"\"\"\n",
    "        Load the data & train model\n",
    "        \"\"\"\n",
    "        import pandas as pd\n",
    "        self.df = pd.read_csv('../data/titanic.csv')\n",
    "        self.next(self.data_prep)\n",
    "\n",
    "\n",
    "    @step\n",
    "    def data_prep(self):\n",
    "        \"\"\"\n",
    "        prep data for tree-based model\n",
    "        \"\"\"\n",
    "        import numpy as np\n",
    "        import pandas as pd\n",
    "        # Store target variable of training data in a safe place\n",
    "        survived = self.df.Survived\n",
    "\n",
    "        # \n",
    "        df = self.df.drop(['Survived'], axis=1)\n",
    "\n",
    "        # Impute missing numerical variables\n",
    "        df['Age'] = df.Age.fillna(df.Age.median())\n",
    "        df['Fare'] = df.Fare.fillna(df.Fare.median())\n",
    "\n",
    "        df = pd.get_dummies(df, columns=['Sex'], drop_first=True)\n",
    "        df = df[['Sex_male', 'Fare', 'Age','Pclass', 'SibSp']]\n",
    "\n",
    "        X = df.values\n",
    "        y = survived.values\n",
    "\n",
    "        from sklearn.model_selection import train_test_split\n",
    "\n",
    "        self.X_train, self.X_test, self.y_train, self.y_test = train_test_split(\n",
    "            X, y, test_size=0.33, random_state=42)\n",
    "\n",
    "        self.grid_points = np.arange(1, 9)\n",
    "\n",
    "        self.next(self.model3, foreach='grid_points')\n",
    "\n",
    "\n",
    "    @step\n",
    "    def model3(self):\n",
    "        \"\"\"\n",
    "        make predictions\n",
    "        \"\"\"\n",
    "        from sklearn import tree\n",
    "\n",
    "        # Instantiate model and fit to data\n",
    "        self.clf = tree.DecisionTreeClassifier(max_depth=self.input)\n",
    "        self.clf.fit(self.X_train, self.y_train)\n",
    "        self.score = self.clf.score(self.X_test, self.y_test)\n",
    "\n",
    "        self.next(self.choose_model)\n",
    "        \n",
    "    @step\n",
    "    def choose_model(self, inputs):\n",
    "        \"\"\"\n",
    "        find 'best' model\n",
    "        \"\"\"\n",
    "        import numpy as np\n",
    "\n",
    "        def score(inp):\n",
    "            return inp.clf,\\\n",
    "                   inp.score\n",
    "\n",
    "            \n",
    "        self.results = sorted(map(score, inputs), key=lambda x: -x[1]) \n",
    "        self.model = self.results[0][0]\n",
    "        \n",
    "        self.next(self.end)\n",
    "\n",
    "\n",
    "    @step\n",
    "    def end(self):\n",
    "        \"\"\"\n",
    "        End of flow!\n",
    "        \"\"\"\n",
    "        print('Scores:')\n",
    "        print('\\n'.join('%s %f' % res for res in self.results))\n",
    "        print('Best model:')\n",
    "        print(self.model)\n",
    "        print(\"TFlow5 is all done.\")\n",
    "\n",
    "\n",
    "if __name__ == \"__main__\":\n",
    "    TFlow5()"
   ]
  },
  {
   "cell_type": "code",
   "execution_count": 27,
   "metadata": {},
   "outputs": [
    {
     "name": "stdout",
     "output_type": "stream",
     "text": [
      "\u001b[35m\u001b[1mMetaflow 2.7.21.4\u001b[0m\u001b[35m\u001b[22m executing \u001b[0m\u001b[31m\u001b[1mTFlow5\u001b[0m\u001b[35m\u001b[22m\u001b[0m\u001b[35m\u001b[22m for \u001b[0m\u001b[31m\u001b[1muser:sandbox\u001b[0m\u001b[35m\u001b[22m\u001b[K\u001b[0m\u001b[35m\u001b[22m\u001b[0m\n",
      "\u001b[35m\u001b[22mValidating your flow...\u001b[K\u001b[0m\u001b[35m\u001b[22m\u001b[0m\n",
      "\u001b[32m\u001b[1m    The graph looks good!\u001b[K\u001b[0m\u001b[32m\u001b[1m\u001b[0m\n",
      "\u001b[35m\u001b[22mRunning pylint...\u001b[K\u001b[0m\u001b[35m\u001b[22m\u001b[0m\n",
      "\u001b[32m\u001b[1m    Pylint is happy!\u001b[K\u001b[0m\u001b[32m\u001b[1m\u001b[0m\n",
      "\u001b[35m2023-04-05 17:10:08.382 \u001b[0m\u001b[1mWorkflow starting (run-id 37), see it in the UI at https://ui-pw-233796051.outerbounds.dev/TFlow5/37\u001b[0m\n",
      "\u001b[35m2023-04-05 17:10:08.694 \u001b[0m\u001b[32m[37/start/181 (pid 31039)] \u001b[0m\u001b[1mTask is starting.\u001b[0m\n",
      "\u001b[35m2023-04-05 17:10:14.832 \u001b[0m\u001b[32m[37/start/181 (pid 31039)] \u001b[0m\u001b[1mTask finished successfully.\u001b[0m\n",
      "\u001b[35m2023-04-05 17:10:15.251 \u001b[0m\u001b[32m[37/data_prep/182 (pid 31173)] \u001b[0m\u001b[1mTask is starting.\u001b[0m\n",
      "\u001b[35m2023-04-05 17:10:20.379 \u001b[0m\u001b[32m[37/data_prep/182 (pid 31173)] \u001b[0m\u001b[1mForeach yields 8 child steps.\u001b[0m\n",
      "\u001b[35m2023-04-05 17:10:20.379 \u001b[0m\u001b[32m[37/data_prep/182 (pid 31173)] \u001b[0m\u001b[1mTask finished successfully.\u001b[0m\n",
      "\u001b[35m2023-04-05 17:10:20.805 \u001b[0m\u001b[32m[37/model3/183 (pid 31275)] \u001b[0m\u001b[1mTask is starting.\u001b[0m\n",
      "\u001b[35m2023-04-05 17:10:20.967 \u001b[0m\u001b[32m[37/model3/184 (pid 31278)] \u001b[0m\u001b[1mTask is starting.\u001b[0m\n",
      "\u001b[35m2023-04-05 17:10:21.165 \u001b[0m\u001b[32m[37/model3/185 (pid 31282)] \u001b[0m\u001b[1mTask is starting.\u001b[0m\n",
      "\u001b[35m2023-04-05 17:10:21.391 \u001b[0m\u001b[32m[37/model3/186 (pid 31286)] \u001b[0m\u001b[1mTask is starting.\u001b[0m\n",
      "\u001b[35m2023-04-05 17:10:21.802 \u001b[0m\u001b[32m[37/model3/187 (pid 31315)] \u001b[0m\u001b[1mTask is starting.\u001b[0m\n",
      "\u001b[35m2023-04-05 17:10:22.304 \u001b[0m\u001b[32m[37/model3/188 (pid 31342)] \u001b[0m\u001b[1mTask is starting.\u001b[0m\n",
      "\u001b[35m2023-04-05 17:10:22.702 \u001b[0m\u001b[32m[37/model3/189 (pid 31347)] \u001b[0m\u001b[1mTask is starting.\u001b[0m\n",
      "\u001b[35m2023-04-05 17:10:23.304 \u001b[0m\u001b[32m[37/model3/190 (pid 31368)] \u001b[0m\u001b[1mTask is starting.\u001b[0m\n",
      "\u001b[35m2023-04-05 17:10:41.091 \u001b[0m\u001b[32m[37/model3/183 (pid 31275)] \u001b[0m\u001b[1mTask finished successfully.\u001b[0m\n",
      "\u001b[35m2023-04-05 17:10:41.892 \u001b[0m\u001b[32m[37/model3/184 (pid 31278)] \u001b[0m\u001b[1mTask finished successfully.\u001b[0m\n",
      "\u001b[35m2023-04-05 17:10:42.411 \u001b[0m\u001b[32m[37/model3/185 (pid 31282)] \u001b[0m\u001b[1mTask finished successfully.\u001b[0m\n",
      "\u001b[35m2023-04-05 17:10:43.110 \u001b[0m\u001b[32m[37/model3/186 (pid 31286)] \u001b[0m\u001b[1mTask finished successfully.\u001b[0m\n",
      "\u001b[35m2023-04-05 17:10:43.545 \u001b[0m\u001b[32m[37/model3/187 (pid 31315)] \u001b[0m\u001b[1mTask finished successfully.\u001b[0m\n",
      "\u001b[35m2023-04-05 17:10:43.884 \u001b[0m\u001b[32m[37/model3/188 (pid 31342)] \u001b[0m\u001b[1mTask finished successfully.\u001b[0m\n",
      "\u001b[35m2023-04-05 17:10:44.578 \u001b[0m\u001b[32m[37/model3/189 (pid 31347)] \u001b[0m\u001b[1mTask finished successfully.\u001b[0m\n",
      "\u001b[35m2023-04-05 17:10:44.937 \u001b[0m\u001b[32m[37/model3/190 (pid 31368)] \u001b[0m\u001b[1mTask finished successfully.\u001b[0m\n",
      "\u001b[35m2023-04-05 17:10:45.407 \u001b[0m\u001b[32m[37/choose_model/191 (pid 32114)] \u001b[0m\u001b[1mTask is starting.\u001b[0m\n",
      "\u001b[35m2023-04-05 17:10:58.189 \u001b[0m\u001b[32m[37/choose_model/191 (pid 32114)] \u001b[0m\u001b[1mTask finished successfully.\u001b[0m\n",
      "\u001b[35m2023-04-05 17:10:58.541 \u001b[0m\u001b[32m[37/end/192 (pid 32315)] \u001b[0m\u001b[1mTask is starting.\u001b[0m\n",
      "\u001b[35m2023-04-05 17:11:00.229 \u001b[0m\u001b[32m[37/end/192 (pid 32315)] \u001b[0m\u001b[22mScores:\u001b[0m\n",
      "\u001b[35m2023-04-05 17:11:00.633 \u001b[0m\u001b[32m[37/end/192 (pid 32315)] \u001b[0m\u001b[22mDecisionTreeClassifier(max_depth=4) 0.823729\u001b[0m\n",
      "\u001b[35m2023-04-05 17:11:00.666 \u001b[0m\u001b[32m[37/end/192 (pid 32315)] \u001b[0m\u001b[22mDecisionTreeClassifier(max_depth=3) 0.820339\u001b[0m\n",
      "\u001b[35m2023-04-05 17:11:00.666 \u001b[0m\u001b[32m[37/end/192 (pid 32315)] \u001b[0m\u001b[22mDecisionTreeClassifier(max_depth=8) 0.810169\u001b[0m\n",
      "\u001b[35m2023-04-05 17:11:00.667 \u001b[0m\u001b[32m[37/end/192 (pid 32315)] \u001b[0m\u001b[22mDecisionTreeClassifier(max_depth=5) 0.806780\u001b[0m\n",
      "\u001b[35m2023-04-05 17:11:00.667 \u001b[0m\u001b[32m[37/end/192 (pid 32315)] \u001b[0m\u001b[22mDecisionTreeClassifier(max_depth=1) 0.796610\u001b[0m\n",
      "\u001b[35m2023-04-05 17:11:00.667 \u001b[0m\u001b[32m[37/end/192 (pid 32315)] \u001b[0m\u001b[22mDecisionTreeClassifier(max_depth=7) 0.783051\u001b[0m\n",
      "\u001b[35m2023-04-05 17:11:00.667 \u001b[0m\u001b[32m[37/end/192 (pid 32315)] \u001b[0m\u001b[22mDecisionTreeClassifier(max_depth=2) 0.776271\u001b[0m\n",
      "\u001b[35m2023-04-05 17:11:00.667 \u001b[0m\u001b[32m[37/end/192 (pid 32315)] \u001b[0m\u001b[22mDecisionTreeClassifier(max_depth=6) 0.766102\u001b[0m\n",
      "\u001b[35m2023-04-05 17:11:00.667 \u001b[0m\u001b[32m[37/end/192 (pid 32315)] \u001b[0m\u001b[22mBest model:\u001b[0m\n",
      "\u001b[35m2023-04-05 17:11:00.667 \u001b[0m\u001b[32m[37/end/192 (pid 32315)] \u001b[0m\u001b[22mDecisionTreeClassifier(max_depth=4)\u001b[0m\n",
      "\u001b[35m2023-04-05 17:11:01.590 \u001b[0m\u001b[32m[37/end/192 (pid 32315)] \u001b[0m\u001b[22mTFlow5 is all done.\u001b[0m\n",
      "\u001b[35m2023-04-05 17:11:01.786 \u001b[0m\u001b[32m[37/end/192 (pid 32315)] \u001b[0m\u001b[1mTask finished successfully.\u001b[0m\n",
      "\u001b[35m2023-04-05 17:11:01.935 \u001b[0m\u001b[1mDone! See the run in the UI at https://ui-pw-233796051.outerbounds.dev/TFlow5/37\u001b[0m\n"
     ]
    }
   ],
   "source": [
    "! python ../flows/local/titanic_flow_5.py run "
   ]
  },
  {
   "cell_type": "code",
   "execution_count": 28,
   "metadata": {},
   "outputs": [
    {
     "name": "stdout",
     "output_type": "stream",
     "text": [
      "\u001b[35m\u001b[1mMetaflow 2.7.21.4\u001b[0m\u001b[35m\u001b[22m executing \u001b[0m\u001b[31m\u001b[1mTFlow5\u001b[0m\u001b[35m\u001b[22m\u001b[0m\u001b[35m\u001b[22m for \u001b[0m\u001b[31m\u001b[1muser:sandbox\u001b[0m\u001b[35m\u001b[22m\u001b[K\u001b[0m\u001b[35m\u001b[22m\u001b[0m\n",
      "\u001b[32m\u001b[22mResolving card: TFlow5/37/start/181\u001b[K\u001b[0m\u001b[32m\u001b[22m\u001b[0m\n"
     ]
    }
   ],
   "source": [
    "! python ../flows/local/titanic_flow_5.py card view start"
   ]
  },
  {
   "cell_type": "code",
   "execution_count": 29,
   "metadata": {},
   "outputs": [
    {
     "name": "stdout",
     "output_type": "stream",
     "text": [
      "True\n"
     ]
    }
   ],
   "source": [
    "from metaflow import Flow\n",
    "name = 'TFlow5'\n",
    "run = Flow(name).latest_run\n",
    "print(run.successful)"
   ]
  },
  {
   "cell_type": "code",
   "execution_count": 30,
   "metadata": {},
   "outputs": [
    {
     "data": {
      "text/plain": [
       "[(DecisionTreeClassifier(max_depth=4), 0.823728813559322),\n",
       " (DecisionTreeClassifier(max_depth=3), 0.8203389830508474),\n",
       " (DecisionTreeClassifier(max_depth=8), 0.8101694915254237),\n",
       " (DecisionTreeClassifier(max_depth=5), 0.8067796610169492),\n",
       " (DecisionTreeClassifier(max_depth=1), 0.7966101694915254),\n",
       " (DecisionTreeClassifier(max_depth=7), 0.7830508474576271),\n",
       " (DecisionTreeClassifier(max_depth=2), 0.7762711864406779),\n",
       " (DecisionTreeClassifier(max_depth=6), 0.7661016949152543)]"
      ]
     },
     "execution_count": 30,
     "metadata": {},
     "output_type": "execute_result"
    }
   ],
   "source": [
    "run.data.results"
   ]
  }
 ],
 "metadata": {
  "kernelspec": {
   "display_name": "full-stack-metaflow",
   "language": "python",
   "name": "python3"
  },
  "language_info": {
   "codemirror_mode": {
    "name": "ipython",
    "version": 3
   },
   "file_extension": ".py",
   "mimetype": "text/x-python",
   "name": "python",
   "nbconvert_exporter": "python",
   "pygments_lexer": "ipython3",
   "version": "3.8.16"
  },
  "orig_nbformat": 4
 },
 "nbformat": 4,
 "nbformat_minor": 2
}
