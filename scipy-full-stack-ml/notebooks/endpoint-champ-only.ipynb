{
 "cells": [
  {
   "attachments": {},
   "cell_type": "markdown",
   "metadata": {},
   "source": [
    "# Set the namespaces based on _your_ deployment"
   ]
  },
  {
   "cell_type": "code",
   "execution_count": null,
   "metadata": {},
   "outputs": [],
   "source": [
    "# Paste the namespace of your flow here. You can find it in Metaflow GUI. \n",
    "champ_namespace = ... # something like: 'production:mfprj-xsfdb3gtsiboqyrd-0-vqsy'"
   ]
  },
  {
   "attachments": {},
   "cell_type": "markdown",
   "metadata": {},
   "source": [
    "# Configure the endpoints to set model state on the server"
   ]
  },
  {
   "cell_type": "code",
   "execution_count": null,
   "metadata": {},
   "outputs": [],
   "source": [
    "endpoint_uri_base = 'http://127.0.0.1:8000/'\n",
    "slug = 'load-models?champ_namespace={}'.format(champ_namespace)\n",
    "load_models_endpoint = endpoint_uri_base + slug\n",
    "print(load_models_endpoint)"
   ]
  },
  {
   "attachments": {},
   "cell_type": "markdown",
   "metadata": {},
   "source": [
    "# Run the uvicorn server\n",
    "\n",
    "In the terminal run:\n",
    "```sh\n",
    "uvicorn model-server:api\n",
    "```\n",
    "This needs to stay running while you complete the remaining cells of the notebook."
   ]
  },
  {
   "attachments": {},
   "cell_type": "markdown",
   "metadata": {},
   "source": [
    "# Load the champion model state on the server"
   ]
  },
  {
   "cell_type": "code",
   "execution_count": null,
   "metadata": {},
   "outputs": [],
   "source": [
    "import requests\n",
    "try:\n",
    "    response = requests.get(load_models_endpoint, verify=False, proxies={\"https\": endpoint_uri_base})\n",
    "    print(response.json())\n",
    "except requests.ConnectionError as e: \n",
    "    print(\"Did you run the server?!\")"
   ]
  },
  {
   "attachments": {},
   "cell_type": "markdown",
   "metadata": {},
   "source": [
    "# Get sample data"
   ]
  },
  {
   "cell_type": "code",
   "execution_count": null,
   "metadata": {},
   "outputs": [],
   "source": [
    "# get random data point\n",
    "import pandas as pd\n",
    "data = pd.read_csv(\"../data/titanic.csv\")\n",
    "\n",
    "inference_example = data.sample()\n",
    "idx = inference_example.index[0]\n",
    "true_target = inference_example['Survived'].values[0]"
   ]
  },
  {
   "cell_type": "code",
   "execution_count": null,
   "metadata": {},
   "outputs": [],
   "source": [
    "payload = inference_example.to_json()"
   ]
  },
  {
   "attachments": {},
   "cell_type": "markdown",
   "metadata": {},
   "source": [
    "# Request a prediction from the server"
   ]
  },
  {
   "cell_type": "code",
   "execution_count": null,
   "metadata": {},
   "outputs": [],
   "source": [
    "pred_slug = 'get-pred?data={}&which_model=champion'.format(payload)\n",
    "prediction_endpoint = endpoint_uri_base + pred_slug\n",
    "response = requests.get(prediction_endpoint, verify=False, proxies={\"https\": endpoint_uri_base})\n",
    "print(response.json())"
   ]
  }
 ],
 "metadata": {
  "kernelspec": {
   "display_name": "full-stack-metaflow-corise",
   "language": "python",
   "name": "python3"
  },
  "language_info": {
   "codemirror_mode": {
    "name": "ipython",
    "version": 3
   },
   "file_extension": ".py",
   "mimetype": "text/x-python",
   "name": "python",
   "nbconvert_exporter": "python",
   "pygments_lexer": "ipython3",
   "version": "3.8.15"
  },
  "orig_nbformat": 4
 },
 "nbformat": 4,
 "nbformat_minor": 2
}
