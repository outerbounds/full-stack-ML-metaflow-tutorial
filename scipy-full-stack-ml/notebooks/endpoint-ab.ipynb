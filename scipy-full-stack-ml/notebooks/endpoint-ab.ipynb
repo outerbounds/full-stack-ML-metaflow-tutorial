{
 "cells": [
  {
   "attachments": {},
   "cell_type": "markdown",
   "metadata": {},
   "source": [
    "# Set the namespaces based on _your_ deployment"
   ]
  },
  {
   "cell_type": "code",
   "execution_count": null,
   "metadata": {},
   "outputs": [],
   "source": [
    "# Paste the namespace of your baseline flow here. \n",
    "# You can find it in Metaflow GUI or in the command line print out when you do `python flow.py argo-workflows create`\n",
    "champ_namespace = ... # 'production:mfprj-xsfdb3gtsiboqyrd-0-vqsy'\n",
    "challenger_namespace = ... # 'production:mfprj-cfyzlfzievjlmsf4-0-tbgz'\n",
    "\n",
    "# Don't change this unless you know what you are doing and want to change the uvicorn command.\n",
    "endpoint_uri_base = 'http://127.0.0.1:8000/'"
   ]
  },
  {
   "attachments": {},
   "cell_type": "markdown",
   "metadata": {},
   "source": [
    "# Configure the endpoints to set model state on the server"
   ]
  },
  {
   "cell_type": "code",
   "execution_count": null,
   "metadata": {},
   "outputs": [],
   "source": [
    "use_challenger = False # If False, only load the champion model into memory on the server.\n",
    "\n",
    "if use_challenger:\n",
    "    slug = 'load-models?champ_namespace={}&challenger_namespace={}'.format(\n",
    "        champ_namespace, challenger_namespace)\n",
    "else:\n",
    "    slug = 'load-models?champ_namespace={}'.format(champ_namespace)\n",
    "\n",
    "load_models_endpoint = endpoint_uri_base + slug\n",
    "print(load_models_endpoint)"
   ]
  },
  {
   "attachments": {},
   "cell_type": "markdown",
   "metadata": {},
   "source": [
    "# Run the uvicorn server\n",
    "\n",
    "Open a terminal and run:\n",
    "```sh\n",
    "uvicorn model-server:api\n",
    "```\n",
    "This needs to stay running while you complete the remaining cells of the notebook."
   ]
  },
  {
   "attachments": {},
   "cell_type": "markdown",
   "metadata": {},
   "source": [
    "# Load the champion, and maybe challenger, model states on the server"
   ]
  },
  {
   "cell_type": "code",
   "execution_count": null,
   "metadata": {},
   "outputs": [],
   "source": [
    "import requests\n",
    "\n",
    "# A bit odd to make an API request to load models into memory, but isn't too different from what might happen in prod system.\n",
    "# It works well in this POC to show the core functionality of an A/B test.\n",
    "try: \n",
    "    response = requests.get(load_models_endpoint, verify=False, proxies={\"https\": endpoint_uri_base})\n",
    "    print(response.json())\n",
    "except requests.ConnectionError as e: \n",
    "    print(\"Did you run the server?!\")"
   ]
  },
  {
   "attachments": {},
   "cell_type": "markdown",
   "metadata": {},
   "source": [
    "# Get sample data"
   ]
  },
  {
   "cell_type": "code",
   "execution_count": null,
   "metadata": {},
   "outputs": [],
   "source": [
    "# get random data point\n",
    "import pandas as pd\n",
    "data = pd.read_csv(\"../data/titanic.csv\")\n",
    "\n",
    "inference_example = data.sample()\n",
    "idx = inference_example.index[0]\n",
    "true_target = inference_example['Survived'].values[0]"
   ]
  },
  {
   "cell_type": "code",
   "execution_count": null,
   "metadata": {},
   "outputs": [],
   "source": [
    "payload = inference_example.to_json()"
   ]
  },
  {
   "attachments": {},
   "cell_type": "markdown",
   "metadata": {},
   "source": [
    "# Request a prediction from server via basic A/B test"
   ]
  },
  {
   "cell_type": "code",
   "execution_count": null,
   "metadata": {},
   "outputs": [],
   "source": [
    "force_challenger_model = False # if False, 80% traffic to champ model, 20% traffic to challenger model.\n",
    "\n",
    "pred_slug = 'get-pred?data={}'.format(payload)\n",
    "if force_challenger_model:\n",
    "    pred_slug += '&which_model=challenger'"
   ]
  },
  {
   "cell_type": "code",
   "execution_count": null,
   "metadata": {},
   "outputs": [],
   "source": [
    "prediction_endpoint = endpoint_uri_base + pred_slug\n",
    "try:\n",
    "    response = requests.get(prediction_endpoint, verify=False, proxies={\"https\": endpoint_uri_base})\n",
    "    print(response.json())\n",
    "except requests.ConnectionError as e: \n",
    "    print(\"Did you run the server?!\")"
   ]
  },
  {
   "attachments": {},
   "cell_type": "markdown",
   "metadata": {},
   "source": [
    "# Verify A/B traffic is close to 80/20"
   ]
  },
  {
   "cell_type": "code",
   "execution_count": null,
   "metadata": {},
   "outputs": [],
   "source": [
    "counts = {\"champ\": 0, \"challenger\": 0}\n",
    "for _ in range(100):\n",
    "    response = requests.get(prediction_endpoint, verify=False, proxies={\"https\": endpoint_uri_base})\n",
    "    counts[response.json()['model_used']] += 1"
   ]
  },
  {
   "cell_type": "code",
   "execution_count": null,
   "metadata": {},
   "outputs": [],
   "source": [
    "counts"
   ]
  }
 ],
 "metadata": {
  "kernelspec": {
   "display_name": "full-stack-metaflow-corise",
   "language": "python",
   "name": "python3"
  },
  "language_info": {
   "codemirror_mode": {
    "name": "ipython",
    "version": 3
   },
   "file_extension": ".py",
   "mimetype": "text/x-python",
   "name": "python",
   "nbconvert_exporter": "python",
   "pygments_lexer": "ipython3",
   "version": "3.8.15"
  },
  "orig_nbformat": 4
 },
 "nbformat": 4,
 "nbformat_minor": 2
}
