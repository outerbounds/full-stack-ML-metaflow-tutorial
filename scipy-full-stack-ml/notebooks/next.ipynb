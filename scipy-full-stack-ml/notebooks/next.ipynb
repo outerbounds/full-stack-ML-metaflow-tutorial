{
 "cells": [
  {
   "attachments": {},
   "cell_type": "markdown",
   "metadata": {},
   "source": [
    "## Next steps\n",
    "\n",
    "Thanks for joining and sticking around until the end!\n",
    "\n",
    "We'll provide some resources below so you can continue on your Full Stack Machine Learning journey.\n",
    "\n",
    "First, we'd really appreciate it if you would take 5 minutes to complete [this brief survey](https://forms.gle/qe4XPWEMt3cQE9EE6)."
   ]
  },
  {
   "attachments": {},
   "cell_type": "markdown",
   "metadata": {},
   "source": [
    "## More resources\n",
    "\n",
    "- [Metaflow docs](https://docs.metaflow.org/)\n",
    "- [Metaflow slack community](chat.metaflow.org)\n",
    "- [Metaflow sandboxes](https://outerbounds.com/sandbox/)"
   ]
  },
  {
   "attachments": {},
   "cell_type": "markdown",
   "metadata": {},
   "source": [
    "![](../img/ob_front_exp.png)"
   ]
  },
  {
   "cell_type": "markdown",
   "metadata": {},
   "source": []
  }
 ],
 "metadata": {
  "language_info": {
   "name": "python"
  },
  "orig_nbformat": 4
 },
 "nbformat": 4,
 "nbformat_minor": 2
}
