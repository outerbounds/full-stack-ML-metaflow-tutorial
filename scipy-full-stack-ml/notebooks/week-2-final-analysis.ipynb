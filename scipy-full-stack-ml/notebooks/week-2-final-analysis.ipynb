{
 "cells": [
  {
   "cell_type": "code",
   "execution_count": 1,
   "metadata": {},
   "outputs": [
    {
     "name": "stdout",
     "output_type": "stream",
     "text": [
      "True\n"
     ]
    }
   ],
   "source": [
    "from metaflow import Flow\n",
    "name = 'TFlow5'\n",
    "run = Flow(name).latest_run\n",
    "print(run.successful)"
   ]
  },
  {
   "cell_type": "code",
   "execution_count": 2,
   "metadata": {},
   "outputs": [
    {
     "data": {
      "text/plain": [
       "[(DecisionTreeClassifier(max_depth=4), 0.823728813559322),\n",
       " (DecisionTreeClassifier(max_depth=3), 0.8203389830508474),\n",
       " (DecisionTreeClassifier(max_depth=8), 0.8135593220338984),\n",
       " (DecisionTreeClassifier(max_depth=5), 0.8101694915254237),\n",
       " (DecisionTreeClassifier(max_depth=1), 0.7966101694915254),\n",
       " (DecisionTreeClassifier(max_depth=7), 0.7830508474576271),\n",
       " (DecisionTreeClassifier(max_depth=2), 0.7762711864406779),\n",
       " (DecisionTreeClassifier(max_depth=6), 0.7694915254237288)]"
      ]
     },
     "execution_count": 2,
     "metadata": {},
     "output_type": "execute_result"
    }
   ],
   "source": [
    "run.data.results"
   ]
  }
 ],
 "metadata": {
  "kernelspec": {
   "display_name": "full-stack-metaflow",
   "language": "python",
   "name": "python3"
  },
  "language_info": {
   "codemirror_mode": {
    "name": "ipython",
    "version": 3
   },
   "file_extension": ".py",
   "mimetype": "text/x-python",
   "name": "python",
   "nbconvert_exporter": "python",
   "pygments_lexer": "ipython3",
   "version": "3.8.16"
  },
  "orig_nbformat": 4
 },
 "nbformat": 4,
 "nbformat_minor": 2
}
