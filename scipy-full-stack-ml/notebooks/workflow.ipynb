{
 "cells": [
  {
   "attachments": {},
   "cell_type": "markdown",
   "metadata": {},
   "source": [
    "## Hardening a Workflow Gradually\n",
    "We introduced four mechanisms for dealing with failures proactively: Python’s standard `try-except` construct, `@retry`, `@timeout`, and `@catch`. These decorators are optional, acknowledging the fact that handling failures isn’t the first priority when prototyping a new project. However, as the project matures you can use the decorators to harden your workflow and make it more production-ready.\n",
    "\n",
    "You can gradually harden your workflows in this order:\n",
    "\n",
    "1. Use `try-except` blocks in your code to handle obvious exceptions. For instance, you can wrap any data processing in try-except since the data may evolve in surprising ways. Also, it is a good idea to wrap any calls to external services like databases try- except and possibly include use case specific retrying logic.\n",
    "2. Use `@retry` to handle any transient platform errors, i.e. any random issues happening in the cloud. In particular, using @retry is crucial with workflows that launch many tasks e.g. using foreach. You can execute any flow robustly in the cloud simply by using run `--with batch --with retry`. For extra safety, you can make `@retry` more patient: E.g. `@retry(times=4, minutes_between_retries=20)` gives the task over one hour time to succeed.\n",
    "3. Use `@timeout` to annotate steps that may get stuck or that may execute for an arbitrarily long time.\n",
    "4. Use `@catch` to prevent complex steps, e.g. model training or data processing, from crashing the whole workflow. Remember to check the indicator artifact created by `@catch` in subsequent steps to account for missing results."
   ]
  }
 ],
 "metadata": {
  "language_info": {
   "name": "python"
  },
  "orig_nbformat": 4
 },
 "nbformat": 4,
 "nbformat_minor": 2
}
