{
 "cells": [
  {
   "cell_type": "code",
   "execution_count": 11,
   "id": "619f3b6f-7e4b-4b99-9538-0bdd6abd4c33",
   "metadata": {},
   "outputs": [
    {
     "data": {
      "text/plain": [
       "array([[ 1. ,  2. ,  5.2, -1.2]])"
      ]
     },
     "execution_count": 11,
     "metadata": {},
     "output_type": "execute_result"
    }
   ],
   "source": [
    "import numpy as np\n",
    "data = np.array([[1, 2, 5.2, -1.2]]).reshape(1, -1)\n",
    "\n",
    "data\n",
    "\n",
    "\n"
   ]
  },
  {
   "cell_type": "code",
   "execution_count": 2,
   "id": "18d885e5-457a-4d6c-a687-c3e2af01c3c4",
   "metadata": {},
   "outputs": [],
   "source": [
    "! export METAFLOW_PROFILE=oleg2"
   ]
  },
  {
   "cell_type": "code",
   "execution_count": 3,
   "id": "673d41b4-3f69-4d51-b922-eda8f89f89d4",
   "metadata": {
    "collapsed": true,
    "jupyter": {
     "outputs_hidden": true
    },
    "tags": []
   },
   "outputs": [
    {
     "name": "stdout",
     "output_type": "stream",
     "text": [
      "\u001b[35m\u001b[1mMetaflow 2.5.0\u001b[0m\u001b[35m\u001b[22m executing \u001b[0m\u001b[31m\u001b[1mClassificationFlow\u001b[0m\u001b[35m\u001b[22m\u001b[0m\u001b[35m\u001b[22m for \u001b[0m\u001b[31m\u001b[1muser:hba\u001b[0m\u001b[35m\u001b[22m\u001b[K\u001b[0m\u001b[35m\u001b[22m\u001b[0m\n",
      "\u001b[35m\u001b[22mValidating your flow...\u001b[K\u001b[0m\u001b[35m\u001b[22m\u001b[0m\n",
      "\u001b[32m\u001b[1m    The graph looks good!\u001b[K\u001b[0m\u001b[32m\u001b[1m\u001b[0m\n",
      "\u001b[35m\u001b[22mRunning pylint...\u001b[K\u001b[0m\u001b[35m\u001b[22m\u001b[0m\n",
      "\u001b[32m\u001b[1m    Pylint is happy!\u001b[K\u001b[0m\u001b[32m\u001b[1m\u001b[0m\n",
      "\u001b[35m2022-03-25 16:25:48.920 \u001b[0m\u001b[1mWorkflow starting (run-id 1648185948917580):\u001b[0m\n",
      "\u001b[35m2022-03-25 16:25:48.928 \u001b[0m\u001b[32m[1648185948917580/start/1 (pid 2882)] \u001b[0m\u001b[1mTask is starting.\u001b[0m\n",
      "\u001b[35m2022-03-25 16:25:50.978 \u001b[0m\u001b[32m[1648185948917580/start/1 (pid 2882)] \u001b[0m\u001b[1mTask finished successfully.\u001b[0m\n",
      "\u001b[35m2022-03-25 16:25:50.987 \u001b[0m\u001b[32m[1648185948917580/rf_model/2 (pid 2890)] \u001b[0m\u001b[1mTask is starting.\u001b[0m\n",
      "\u001b[35m2022-03-25 16:25:52.135 \u001b[0m\u001b[32m[1648185948917580/rf_model/2 (pid 2890)] \u001b[0m\u001b[1mTask finished successfully.\u001b[0m\n",
      "\u001b[35m2022-03-25 16:25:52.144 \u001b[0m\u001b[32m[1648185948917580/train/3 (pid 2895)] \u001b[0m\u001b[1mTask is starting.\u001b[0m\n",
      "\u001b[35m2022-03-25 16:25:53.205 \u001b[0m\u001b[32m[1648185948917580/train/3 (pid 2895)] \u001b[0m\u001b[1mTask finished successfully.\u001b[0m\n",
      "\u001b[35m2022-03-25 16:25:53.214 \u001b[0m\u001b[32m[1648185948917580/deploy/4 (pid 2900)] \u001b[0m\u001b[1mTask is starting.\u001b[0m\n",
      "\u001b[35m2022-03-25 16:25:54.395 \u001b[0m\u001b[32m[1648185948917580/deploy/4 (pid 2900)] \u001b[0m\u001b[22m<flow ClassificationFlow step deploy> failed:\u001b[0m\n",
      "\u001b[35m2022-03-25 16:25:54.400 \u001b[0m\u001b[32m[1648185948917580/deploy/4 (pid 2900)] \u001b[0m\u001b[22mInternal error\u001b[0m\n",
      "\u001b[35m2022-03-25 16:25:54.401 \u001b[0m\u001b[32m[1648185948917580/deploy/4 (pid 2900)] \u001b[0m\u001b[22mTraceback (most recent call last):\u001b[0m\n",
      "\u001b[35m2022-03-25 16:25:54.401 \u001b[0m\u001b[32m[1648185948917580/deploy/4 (pid 2900)] \u001b[0m\u001b[22mFile \"/Users/hba/opt/anaconda3/envs/full-stack-metaflow/lib/python3.8/site-packages/metaflow/cli.py\", line 1110, in main\u001b[0m\n",
      "\u001b[35m2022-03-25 16:25:54.401 \u001b[0m\u001b[32m[1648185948917580/deploy/4 (pid 2900)] \u001b[0m\u001b[22mstart(auto_envvar_prefix=\"METAFLOW\", obj=state)\u001b[0m\n",
      "\u001b[35m2022-03-25 16:25:54.401 \u001b[0m\u001b[32m[1648185948917580/deploy/4 (pid 2900)] \u001b[0m\u001b[22mFile \"/Users/hba/opt/anaconda3/envs/full-stack-metaflow/lib/python3.8/site-packages/click/core.py\", line 1128, in __call__\u001b[0m\n",
      "\u001b[35m2022-03-25 16:25:54.401 \u001b[0m\u001b[32m[1648185948917580/deploy/4 (pid 2900)] \u001b[0m\u001b[22mreturn self.main(args, kwargs)\u001b[0m\n",
      "\u001b[35m2022-03-25 16:25:54.561 \u001b[0m\u001b[32m[1648185948917580/deploy/4 (pid 2900)] \u001b[0m\u001b[22mFile \"/Users/hba/opt/anaconda3/envs/full-stack-metaflow/lib/python3.8/site-packages/click/core.py\", line 1053, in main\u001b[0m\n",
      "\u001b[35m2022-03-25 16:25:54.562 \u001b[0m\u001b[32m[1648185948917580/deploy/4 (pid 2900)] \u001b[0m\u001b[22mrv = self.invoke(ctx)\u001b[0m\n",
      "\u001b[35m2022-03-25 16:25:54.562 \u001b[0m\u001b[32m[1648185948917580/deploy/4 (pid 2900)] \u001b[0m\u001b[22mFile \"/Users/hba/opt/anaconda3/envs/full-stack-metaflow/lib/python3.8/site-packages/click/core.py\", line 1659, in invoke\u001b[0m\n",
      "\u001b[35m2022-03-25 16:25:54.562 \u001b[0m\u001b[32m[1648185948917580/deploy/4 (pid 2900)] \u001b[0m\u001b[22mreturn _process_result(sub_ctx.command.invoke(sub_ctx))\u001b[0m\n",
      "\u001b[35m2022-03-25 16:25:54.562 \u001b[0m\u001b[32m[1648185948917580/deploy/4 (pid 2900)] \u001b[0m\u001b[22mFile \"/Users/hba/opt/anaconda3/envs/full-stack-metaflow/lib/python3.8/site-packages/click/core.py\", line 1395, in invoke\u001b[0m\n",
      "\u001b[35m2022-03-25 16:25:54.562 \u001b[0m\u001b[32m[1648185948917580/deploy/4 (pid 2900)] \u001b[0m\u001b[22mreturn ctx.invoke(self.callback, ctx.params)\u001b[0m\n",
      "\u001b[35m2022-03-25 16:25:54.562 \u001b[0m\u001b[32m[1648185948917580/deploy/4 (pid 2900)] \u001b[0m\u001b[22mFile \"/Users/hba/opt/anaconda3/envs/full-stack-metaflow/lib/python3.8/site-packages/click/core.py\", line 754, in invoke\u001b[0m\n",
      "\u001b[35m2022-03-25 16:25:54.562 \u001b[0m\u001b[32m[1648185948917580/deploy/4 (pid 2900)] \u001b[0m\u001b[22mreturn __callback(args, kwargs)\u001b[0m\n",
      "\u001b[35m2022-03-25 16:25:54.562 \u001b[0m\u001b[32m[1648185948917580/deploy/4 (pid 2900)] \u001b[0m\u001b[22mFile \"/Users/hba/opt/anaconda3/envs/full-stack-metaflow/lib/python3.8/site-packages/click/decorators.py\", line 26, in new_func\u001b[0m\n",
      "\u001b[35m2022-03-25 16:25:54.562 \u001b[0m\u001b[32m[1648185948917580/deploy/4 (pid 2900)] \u001b[0m\u001b[22mreturn f(get_current_context(), args, kwargs)\u001b[0m\n",
      "\u001b[35m2022-03-25 16:25:54.562 \u001b[0m\u001b[32m[1648185948917580/deploy/4 (pid 2900)] \u001b[0m\u001b[22mFile \"/Users/hba/opt/anaconda3/envs/full-stack-metaflow/lib/python3.8/site-packages/metaflow/cli.py\", line 544, in step\u001b[0m\n",
      "\u001b[35m2022-03-25 16:25:54.562 \u001b[0m\u001b[32m[1648185948917580/deploy/4 (pid 2900)] \u001b[0m\u001b[22mtask.run_step(\u001b[0m\n",
      "\u001b[35m2022-03-25 16:25:54.562 \u001b[0m\u001b[32m[1648185948917580/deploy/4 (pid 2900)] \u001b[0m\u001b[22mFile \"/Users/hba/opt/anaconda3/envs/full-stack-metaflow/lib/python3.8/site-packages/metaflow/task.py\", line 547, in run_step\u001b[0m\n",
      "\u001b[35m2022-03-25 16:25:54.562 \u001b[0m\u001b[32m[1648185948917580/deploy/4 (pid 2900)] \u001b[0m\u001b[22mself._exec_step_function(step_func)\u001b[0m\n",
      "\u001b[35m2022-03-25 16:25:54.562 \u001b[0m\u001b[32m[1648185948917580/deploy/4 (pid 2900)] \u001b[0m\u001b[22mFile \"/Users/hba/opt/anaconda3/envs/full-stack-metaflow/lib/python3.8/site-packages/metaflow/task.py\", line 53, in _exec_step_function\u001b[0m\n",
      "\u001b[35m2022-03-25 16:25:54.562 \u001b[0m\u001b[32m[1648185948917580/deploy/4 (pid 2900)] \u001b[0m\u001b[22mstep_function()\u001b[0m\n",
      "\u001b[35m2022-03-25 16:25:54.562 \u001b[0m\u001b[32m[1648185948917580/deploy/4 (pid 2900)] \u001b[0m\u001b[22mFile \"RF-deploy-MVP.py\", line 102, in deploy\u001b[0m\n",
      "\u001b[35m2022-03-25 16:25:54.562 \u001b[0m\u001b[32m[1648185948917580/deploy/4 (pid 2900)] \u001b[0m\u001b[22mwith S3(run=self) as s3:\u001b[0m\n",
      "\u001b[35m2022-03-25 16:25:54.562 \u001b[0m\u001b[32m[1648185948917580/deploy/4 (pid 2900)] \u001b[0m\u001b[22mFile \"/Users/hba/opt/anaconda3/envs/full-stack-metaflow/lib/python3.8/site-packages/metaflow/datatools/s3.py\", line 321, in __init__\u001b[0m\n",
      "\u001b[35m2022-03-25 16:25:54.562 \u001b[0m\u001b[32m[1648185948917580/deploy/4 (pid 2900)] \u001b[0m\u001b[22mprefix = os.path.join(prefix, current.flow_name, current.run_id)\u001b[0m\n",
      "\u001b[35m2022-03-25 16:25:54.562 \u001b[0m\u001b[32m[1648185948917580/deploy/4 (pid 2900)] \u001b[0m\u001b[22mFile \"/Users/hba/opt/anaconda3/envs/full-stack-metaflow/lib/python3.8/posixpath.py\", line 90, in join\u001b[0m\n",
      "\u001b[35m2022-03-25 16:25:54.562 \u001b[0m\u001b[32m[1648185948917580/deploy/4 (pid 2900)] \u001b[0m\u001b[22mgenericpath._check_arg_types('join', a, p)\u001b[0m\n",
      "\u001b[35m2022-03-25 16:25:54.562 \u001b[0m\u001b[32m[1648185948917580/deploy/4 (pid 2900)] \u001b[0m\u001b[22mFile \"/Users/hba/opt/anaconda3/envs/full-stack-metaflow/lib/python3.8/genericpath.py\", line 155, in _check_arg_types\u001b[0m\n",
      "\u001b[35m2022-03-25 16:25:54.562 \u001b[0m\u001b[32m[1648185948917580/deploy/4 (pid 2900)] \u001b[0m\u001b[22mraise TypeError(\"Can't mix strings and bytes in path components\") from None\u001b[0m\n",
      "\u001b[35m2022-03-25 16:25:54.562 \u001b[0m\u001b[32m[1648185948917580/deploy/4 (pid 2900)] \u001b[0m\u001b[22mTypeError: Can't mix strings and bytes in path components\u001b[0m\n",
      "\u001b[35m2022-03-25 16:25:54.563 \u001b[0m\u001b[32m[1648185948917580/deploy/4 (pid 2900)] \u001b[0m\u001b[22m\u001b[0m\n",
      "\u001b[35m2022-03-25 16:25:54.563 \u001b[0m\u001b[32m[1648185948917580/deploy/4 (pid 2900)] \u001b[0m\u001b[1mTask failed.\u001b[0m\n",
      "\u001b[35m2022-03-25 16:25:54.563 \u001b[0m\u001b[31m\u001b[1mWorkflow failed.\u001b[0m\n",
      "\u001b[35m2022-03-25 16:25:54.563 \u001b[0m\u001b[31m\u001b[1mTerminating 0 active tasks...\u001b[0m\n",
      "\u001b[35m2022-03-25 16:25:54.563 \u001b[0m\u001b[31m\u001b[1mFlushing logs...\u001b[0m\n",
      "\u001b[1m    Step failure\u001b[0m\u001b[22m:\u001b[K\u001b[0m\u001b[22m\u001b[0m\n",
      "\u001b[22m    Step \u001b[0m\u001b[31m\u001b[1mdeploy\u001b[0m\u001b[22m (task-id 4) failed.\u001b[K\u001b[0m\u001b[22m\u001b[0m\n",
      "\u001b[22m\u001b[K\u001b[0m\n",
      "\u001b[0m"
     ]
    }
   ],
   "source": [
    "! python RF-deploy-MVP.py run"
   ]
  },
  {
   "cell_type": "code",
   "execution_count": 32,
   "id": "bc12c3a5-3292-4f00-a935-849d5b000972",
   "metadata": {},
   "outputs": [
    {
     "data": {
      "text/plain": [
       "array([[4.9, 3. , 1.4, 0.2],\n",
       "       [4.7, 3.2, 1.3, 0.2]])"
      ]
     },
     "execution_count": 32,
     "metadata": {},
     "output_type": "execute_result"
    }
   ],
   "source": [
    "X[1:3]"
   ]
  },
  {
   "cell_type": "code",
   "execution_count": 7,
   "id": "e79b73e2-ae26-4975-9f9d-2599e60eff38",
   "metadata": {},
   "outputs": [],
   "source": [
    "from sklearn import datasets\n",
    "iris = datasets.load_iris()\n",
    "X = iris['data']"
   ]
  },
  {
   "cell_type": "code",
   "execution_count": 8,
   "id": "9a2e6cdc-27ca-44de-bbe9-9daa9655023d",
   "metadata": {
    "collapsed": true,
    "jupyter": {
     "outputs_hidden": true
    },
    "tags": []
   },
   "outputs": [
    {
     "data": {
      "text/plain": [
       "array([[5.1, 3.5, 1.4, 0.2],\n",
       "       [4.9, 3. , 1.4, 0.2],\n",
       "       [4.7, 3.2, 1.3, 0.2],\n",
       "       [4.6, 3.1, 1.5, 0.2],\n",
       "       [5. , 3.6, 1.4, 0.2],\n",
       "       [5.4, 3.9, 1.7, 0.4],\n",
       "       [4.6, 3.4, 1.4, 0.3],\n",
       "       [5. , 3.4, 1.5, 0.2],\n",
       "       [4.4, 2.9, 1.4, 0.2],\n",
       "       [4.9, 3.1, 1.5, 0.1],\n",
       "       [5.4, 3.7, 1.5, 0.2],\n",
       "       [4.8, 3.4, 1.6, 0.2],\n",
       "       [4.8, 3. , 1.4, 0.1],\n",
       "       [4.3, 3. , 1.1, 0.1],\n",
       "       [5.8, 4. , 1.2, 0.2],\n",
       "       [5.7, 4.4, 1.5, 0.4],\n",
       "       [5.4, 3.9, 1.3, 0.4],\n",
       "       [5.1, 3.5, 1.4, 0.3],\n",
       "       [5.7, 3.8, 1.7, 0.3],\n",
       "       [5.1, 3.8, 1.5, 0.3],\n",
       "       [5.4, 3.4, 1.7, 0.2],\n",
       "       [5.1, 3.7, 1.5, 0.4],\n",
       "       [4.6, 3.6, 1. , 0.2],\n",
       "       [5.1, 3.3, 1.7, 0.5],\n",
       "       [4.8, 3.4, 1.9, 0.2],\n",
       "       [5. , 3. , 1.6, 0.2],\n",
       "       [5. , 3.4, 1.6, 0.4],\n",
       "       [5.2, 3.5, 1.5, 0.2],\n",
       "       [5.2, 3.4, 1.4, 0.2],\n",
       "       [4.7, 3.2, 1.6, 0.2],\n",
       "       [4.8, 3.1, 1.6, 0.2],\n",
       "       [5.4, 3.4, 1.5, 0.4],\n",
       "       [5.2, 4.1, 1.5, 0.1],\n",
       "       [5.5, 4.2, 1.4, 0.2],\n",
       "       [4.9, 3.1, 1.5, 0.2],\n",
       "       [5. , 3.2, 1.2, 0.2],\n",
       "       [5.5, 3.5, 1.3, 0.2],\n",
       "       [4.9, 3.6, 1.4, 0.1],\n",
       "       [4.4, 3. , 1.3, 0.2],\n",
       "       [5.1, 3.4, 1.5, 0.2],\n",
       "       [5. , 3.5, 1.3, 0.3],\n",
       "       [4.5, 2.3, 1.3, 0.3],\n",
       "       [4.4, 3.2, 1.3, 0.2],\n",
       "       [5. , 3.5, 1.6, 0.6],\n",
       "       [5.1, 3.8, 1.9, 0.4],\n",
       "       [4.8, 3. , 1.4, 0.3],\n",
       "       [5.1, 3.8, 1.6, 0.2],\n",
       "       [4.6, 3.2, 1.4, 0.2],\n",
       "       [5.3, 3.7, 1.5, 0.2],\n",
       "       [5. , 3.3, 1.4, 0.2],\n",
       "       [7. , 3.2, 4.7, 1.4],\n",
       "       [6.4, 3.2, 4.5, 1.5],\n",
       "       [6.9, 3.1, 4.9, 1.5],\n",
       "       [5.5, 2.3, 4. , 1.3],\n",
       "       [6.5, 2.8, 4.6, 1.5],\n",
       "       [5.7, 2.8, 4.5, 1.3],\n",
       "       [6.3, 3.3, 4.7, 1.6],\n",
       "       [4.9, 2.4, 3.3, 1. ],\n",
       "       [6.6, 2.9, 4.6, 1.3],\n",
       "       [5.2, 2.7, 3.9, 1.4],\n",
       "       [5. , 2. , 3.5, 1. ],\n",
       "       [5.9, 3. , 4.2, 1.5],\n",
       "       [6. , 2.2, 4. , 1. ],\n",
       "       [6.1, 2.9, 4.7, 1.4],\n",
       "       [5.6, 2.9, 3.6, 1.3],\n",
       "       [6.7, 3.1, 4.4, 1.4],\n",
       "       [5.6, 3. , 4.5, 1.5],\n",
       "       [5.8, 2.7, 4.1, 1. ],\n",
       "       [6.2, 2.2, 4.5, 1.5],\n",
       "       [5.6, 2.5, 3.9, 1.1],\n",
       "       [5.9, 3.2, 4.8, 1.8],\n",
       "       [6.1, 2.8, 4. , 1.3],\n",
       "       [6.3, 2.5, 4.9, 1.5],\n",
       "       [6.1, 2.8, 4.7, 1.2],\n",
       "       [6.4, 2.9, 4.3, 1.3],\n",
       "       [6.6, 3. , 4.4, 1.4],\n",
       "       [6.8, 2.8, 4.8, 1.4],\n",
       "       [6.7, 3. , 5. , 1.7],\n",
       "       [6. , 2.9, 4.5, 1.5],\n",
       "       [5.7, 2.6, 3.5, 1. ],\n",
       "       [5.5, 2.4, 3.8, 1.1],\n",
       "       [5.5, 2.4, 3.7, 1. ],\n",
       "       [5.8, 2.7, 3.9, 1.2],\n",
       "       [6. , 2.7, 5.1, 1.6],\n",
       "       [5.4, 3. , 4.5, 1.5],\n",
       "       [6. , 3.4, 4.5, 1.6],\n",
       "       [6.7, 3.1, 4.7, 1.5],\n",
       "       [6.3, 2.3, 4.4, 1.3],\n",
       "       [5.6, 3. , 4.1, 1.3],\n",
       "       [5.5, 2.5, 4. , 1.3],\n",
       "       [5.5, 2.6, 4.4, 1.2],\n",
       "       [6.1, 3. , 4.6, 1.4],\n",
       "       [5.8, 2.6, 4. , 1.2],\n",
       "       [5. , 2.3, 3.3, 1. ],\n",
       "       [5.6, 2.7, 4.2, 1.3],\n",
       "       [5.7, 3. , 4.2, 1.2],\n",
       "       [5.7, 2.9, 4.2, 1.3],\n",
       "       [6.2, 2.9, 4.3, 1.3],\n",
       "       [5.1, 2.5, 3. , 1.1],\n",
       "       [5.7, 2.8, 4.1, 1.3],\n",
       "       [6.3, 3.3, 6. , 2.5],\n",
       "       [5.8, 2.7, 5.1, 1.9],\n",
       "       [7.1, 3. , 5.9, 2.1],\n",
       "       [6.3, 2.9, 5.6, 1.8],\n",
       "       [6.5, 3. , 5.8, 2.2],\n",
       "       [7.6, 3. , 6.6, 2.1],\n",
       "       [4.9, 2.5, 4.5, 1.7],\n",
       "       [7.3, 2.9, 6.3, 1.8],\n",
       "       [6.7, 2.5, 5.8, 1.8],\n",
       "       [7.2, 3.6, 6.1, 2.5],\n",
       "       [6.5, 3.2, 5.1, 2. ],\n",
       "       [6.4, 2.7, 5.3, 1.9],\n",
       "       [6.8, 3. , 5.5, 2.1],\n",
       "       [5.7, 2.5, 5. , 2. ],\n",
       "       [5.8, 2.8, 5.1, 2.4],\n",
       "       [6.4, 3.2, 5.3, 2.3],\n",
       "       [6.5, 3. , 5.5, 1.8],\n",
       "       [7.7, 3.8, 6.7, 2.2],\n",
       "       [7.7, 2.6, 6.9, 2.3],\n",
       "       [6. , 2.2, 5. , 1.5],\n",
       "       [6.9, 3.2, 5.7, 2.3],\n",
       "       [5.6, 2.8, 4.9, 2. ],\n",
       "       [7.7, 2.8, 6.7, 2. ],\n",
       "       [6.3, 2.7, 4.9, 1.8],\n",
       "       [6.7, 3.3, 5.7, 2.1],\n",
       "       [7.2, 3.2, 6. , 1.8],\n",
       "       [6.2, 2.8, 4.8, 1.8],\n",
       "       [6.1, 3. , 4.9, 1.8],\n",
       "       [6.4, 2.8, 5.6, 2.1],\n",
       "       [7.2, 3. , 5.8, 1.6],\n",
       "       [7.4, 2.8, 6.1, 1.9],\n",
       "       [7.9, 3.8, 6.4, 2. ],\n",
       "       [6.4, 2.8, 5.6, 2.2],\n",
       "       [6.3, 2.8, 5.1, 1.5],\n",
       "       [6.1, 2.6, 5.6, 1.4],\n",
       "       [7.7, 3. , 6.1, 2.3],\n",
       "       [6.3, 3.4, 5.6, 2.4],\n",
       "       [6.4, 3.1, 5.5, 1.8],\n",
       "       [6. , 3. , 4.8, 1.8],\n",
       "       [6.9, 3.1, 5.4, 2.1],\n",
       "       [6.7, 3.1, 5.6, 2.4],\n",
       "       [6.9, 3.1, 5.1, 2.3],\n",
       "       [5.8, 2.7, 5.1, 1.9],\n",
       "       [6.8, 3.2, 5.9, 2.3],\n",
       "       [6.7, 3.3, 5.7, 2.5],\n",
       "       [6.7, 3. , 5.2, 2.3],\n",
       "       [6.3, 2.5, 5. , 1.9],\n",
       "       [6.5, 3. , 5.2, 2. ],\n",
       "       [6.2, 3.4, 5.4, 2.3],\n",
       "       [5.9, 3. , 5.1, 1.8]])"
      ]
     },
     "execution_count": 8,
     "metadata": {},
     "output_type": "execute_result"
    }
   ],
   "source": [
    "X"
   ]
  },
  {
   "cell_type": "code",
   "execution_count": 12,
   "id": "ec4a97d9-573b-4819-9f80-e9f417e1bdf3",
   "metadata": {},
   "outputs": [
    {
     "data": {
      "text/plain": [
       "array([[4.9, 3. , 1.4, 0.2],\n",
       "       [4.7, 3.2, 1.3, 0.2],\n",
       "       [4.6, 3.1, 1.5, 0.2]])"
      ]
     },
     "execution_count": 12,
     "metadata": {},
     "output_type": "execute_result"
    }
   ],
   "source": [
    "X[1:4]"
   ]
  },
  {
   "cell_type": "code",
   "execution_count": null,
   "id": "47baa752-60da-4e89-967c-dfe7bca87aba",
   "metadata": {},
   "outputs": [],
   "source": []
  },
  {
   "cell_type": "code",
   "execution_count": 10,
   "id": "1fe558ae-82d5-4cab-a71f-aa8625e069ef",
   "metadata": {},
   "outputs": [
    {
     "name": "stdout",
     "output_type": "stream",
     "text": [
      "b'[0, 0, 0, 0, 0, 0, 0, 0, 0, 0, 0, 0, 0, 0, 0, 0, 0, 0, 0, 0, 0, 0, 0, 0, 0, 0, 0, 0, 0, 0, 0, 0, 0, 0, 0, 0, 0, 0, 0, 0, 0, 0, 0, 0, 0, 0, 0, 0, 0, 0, 1, 1, 1, 1, 1, 1, 1, 1, 1, 1, 1, 1, 1, 1, 1, 1, 1, 1, 1, 1, 1, 1, 1, 1, 1, 1, 1, 1, 1, 1, 1, 1, 1, 2, 1, 1, 1, 1, 1, 1, 1, 1, 1, 1, 1, 1, 1, 1, 1, 1, 2, 2, 2, 2, 2, 2, 1, 2, 2, 2, 2, 2, 2, 2, 2, 2, 2, 2, 2, 2, 2, 2, 2, 2, 2, 2, 2, 2, 2, 2, 2, 2, 2, 2, 2, 2, 2, 2, 2, 2, 2, 2, 2, 2, 2, 2, 2, 2, 2, 2]'\n"
     ]
    }
   ],
   "source": [
    "import boto3\n",
    "import pandas as pd\n",
    "\n",
    "# Create a low-level client representing Amazon SageMaker Runtime\n",
    "sagemaker_runtime = boto3.client(\"sagemaker-runtime\", region_name='us-west-2')\n",
    "\n",
    "# The name of the endpoint. The name must be unique within an AWS Region in your AWS account. \n",
    "\n",
    "endpoint_name='HBA-RF-endpoint-1648215885857'\n",
    "\n",
    "\n",
    "# csv serialization\n",
    "response = sagemaker_runtime.invoke_endpoint(\n",
    "    EndpointName=endpoint_name,\n",
    "    Body=pd.DataFrame(X).to_csv(header=False, index=False),\n",
    "    ContentType=\"text/csv\",\n",
    ")\n",
    "\n",
    "print(response[\"Body\"].read())"
   ]
  },
  {
   "cell_type": "code",
   "execution_count": 3,
   "id": "82dba3a2-10a1-4b36-bdd4-8fbd703624db",
   "metadata": {},
   "outputs": [],
   "source": [
    "t = pd.DataFrame(X[1:10]).to_csv(header=False, index=False)"
   ]
  },
  {
   "cell_type": "code",
   "execution_count": 4,
   "id": "761d8695-0692-4244-9e49-6886a173a1e3",
   "metadata": {},
   "outputs": [
    {
     "data": {
      "text/plain": [
       "'4.9,3.0,1.4,0.2\\n4.7,3.2,1.3,0.2\\n4.6,3.1,1.5,0.2\\n5.0,3.6,1.4,0.2\\n5.4,3.9,1.7,0.4\\n4.6,3.4,1.4,0.3\\n5.0,3.4,1.5,0.2\\n4.4,2.9,1.4,0.2\\n4.9,3.1,1.5,0.1\\n'"
      ]
     },
     "execution_count": 4,
     "metadata": {},
     "output_type": "execute_result"
    }
   ],
   "source": [
    "t"
   ]
  },
  {
   "cell_type": "code",
   "execution_count": 23,
   "id": "052f0a76-74de-4f0a-a354-19b64bbfbc19",
   "metadata": {},
   "outputs": [
    {
     "name": "stdout",
     "output_type": "stream",
     "text": [
      "4.9,3.0,1.4,0.2\n",
      "4.7,3.2,1.3,0.2\n",
      "4.6,3.1,1.5,0.2\n",
      "5.0,3.6,1.4,0.2\n",
      "5.4,3.9,1.7,0.4\n",
      "4.6,3.4,1.4,0.3\n",
      "5.0,3.4,1.5,0.2\n",
      "4.4,2.9,1.4,0.2\n",
      "4.9,3.1,1.5,0.1\n"
     ]
    },
    {
     "data": {
      "text/plain": [
       "array([[4.9, 3. , 1.4, 0.2],\n",
       "       [4.7, 3.2, 1.3, 0.2],\n",
       "       [4.6, 3.1, 1.5, 0.2],\n",
       "       [5. , 3.6, 1.4, 0.2],\n",
       "       [5.4, 3.9, 1.7, 0.4],\n",
       "       [4.6, 3.4, 1.4, 0.3],\n",
       "       [5. , 3.4, 1.5, 0.2],\n",
       "       [4.4, 2.9, 1.4, 0.2],\n",
       "       [4.9, 3.1, 1.5, 0.1]])"
      ]
     },
     "execution_count": 23,
     "metadata": {},
     "output_type": "execute_result"
    }
   ],
   "source": [
    "import numpy as np\n",
    "samples = []\n",
    "for r in t.split():\n",
    "    print(r)\n",
    "    samples.append(list(map(float,r.split(','))))\n",
    "np.array(samples)"
   ]
  },
  {
   "cell_type": "code",
   "execution_count": null,
   "id": "c10da3db-7d37-4ecd-915e-68bc99a31097",
   "metadata": {},
   "outputs": [],
   "source": []
  },
  {
   "cell_type": "code",
   "execution_count": null,
   "id": "9d9d76ca-81e3-4c39-b1be-09f1d3a3073b",
   "metadata": {},
   "outputs": [],
   "source": []
  },
  {
   "cell_type": "code",
   "execution_count": 5,
   "id": "62a61732-3602-4694-90ff-8fa9d41fc588",
   "metadata": {},
   "outputs": [],
   "source": [
    "! aws-vault login devsandbox"
   ]
  },
  {
   "cell_type": "code",
   "execution_count": null,
   "id": "04d452a0-27a9-4d54-a323-66c024ca728f",
   "metadata": {},
   "outputs": [],
   "source": []
  },
  {
   "cell_type": "code",
   "execution_count": 7,
   "id": "2e9a2d7f-0a7f-4e54-b58d-cbab5c396206",
   "metadata": {},
   "outputs": [],
   "source": [
    "import numpy as np\n",
    "data = np.random.random(1000)\n",
    "data = [[d] for d in data]"
   ]
  },
  {
   "cell_type": "code",
   "execution_count": 9,
   "id": "7126f716-4bd4-4273-bd31-4e79f70f3e7c",
   "metadata": {
    "collapsed": true,
    "jupyter": {
     "outputs_hidden": true
    },
    "tags": []
   },
   "outputs": [
    {
     "ename": "ValidationError",
     "evalue": "An error occurred (ValidationError) when calling the InvokeEndpoint operation: Endpoint RF-endpoint-1648171008125 of account 006988687827 not found.",
     "output_type": "error",
     "traceback": [
      "\u001b[0;31m---------------------------------------------------------------------------\u001b[0m",
      "\u001b[0;31mValidationError\u001b[0m                           Traceback (most recent call last)",
      "Input \u001b[0;32mIn [9]\u001b[0m, in \u001b[0;36m<cell line: 19>\u001b[0;34m()\u001b[0m\n\u001b[1;32m     14\u001b[0m endpoint_name\u001b[38;5;241m=\u001b[39m\u001b[38;5;124m'\u001b[39m\u001b[38;5;124mRF-endpoint-1648171008125\u001b[39m\u001b[38;5;124m'\u001b[39m\n\u001b[1;32m     16\u001b[0m \u001b[38;5;66;03m# After you deploy a model into production using SageMaker hosting \u001b[39;00m\n\u001b[1;32m     17\u001b[0m \u001b[38;5;66;03m# services, your client applications use this API to get inferences \u001b[39;00m\n\u001b[1;32m     18\u001b[0m \u001b[38;5;66;03m# from the model hosted at the specified endpoint.\u001b[39;00m\n\u001b[0;32m---> 19\u001b[0m response \u001b[38;5;241m=\u001b[39m sagemaker_runtime\u001b[38;5;241m.\u001b[39minvoke_endpoint(\n\u001b[1;32m     20\u001b[0m                             EndpointName\u001b[38;5;241m=\u001b[39mendpoint_name, \n\u001b[1;32m     21\u001b[0m                             \u001b[38;5;66;03m#Body=f\"{data}\",\u001b[39;00m\n\u001b[1;32m     22\u001b[0m                             \u001b[38;5;66;03m#Body=bytes(r'{\"instances\":' + f\"{data}\" + '}', 'utf-8'), # Replace with your own data\u001b[39;00m\n\u001b[1;32m     23\u001b[0m                             Body\u001b[38;5;241m=\u001b[39m\u001b[38;5;28mbytes\u001b[39m(\u001b[38;5;124mf\u001b[39m\u001b[38;5;124m\"\u001b[39m\u001b[38;5;132;01m{\u001b[39;00mdata\u001b[38;5;132;01m}\u001b[39;00m\u001b[38;5;124m\"\u001b[39m, \u001b[38;5;124m'\u001b[39m\u001b[38;5;124mutf-8\u001b[39m\u001b[38;5;124m'\u001b[39m), \n\u001b[1;32m     24\u001b[0m                             \u001b[38;5;66;03m#ContentType='application/json',\u001b[39;00m\n\u001b[1;32m     25\u001b[0m                             )\n\u001b[1;32m     27\u001b[0m \u001b[38;5;66;03m# Optional - Print the response body and decode it so it is human read-able.\u001b[39;00m\n\u001b[1;32m     28\u001b[0m \u001b[38;5;28mprint\u001b[39m(response[\u001b[38;5;124m'\u001b[39m\u001b[38;5;124mBody\u001b[39m\u001b[38;5;124m'\u001b[39m]\u001b[38;5;241m.\u001b[39mread()\u001b[38;5;241m.\u001b[39mdecode(\u001b[38;5;124m'\u001b[39m\u001b[38;5;124mutf-8\u001b[39m\u001b[38;5;124m'\u001b[39m))\n",
      "File \u001b[0;32m~/opt/anaconda3/envs/full-stack-metaflow/lib/python3.8/site-packages/botocore/client.py:391\u001b[0m, in \u001b[0;36mClientCreator._create_api_method.<locals>._api_call\u001b[0;34m(self, *args, **kwargs)\u001b[0m\n\u001b[1;32m    388\u001b[0m     \u001b[38;5;28;01mraise\u001b[39;00m \u001b[38;5;167;01mTypeError\u001b[39;00m(\n\u001b[1;32m    389\u001b[0m         \u001b[38;5;124m\"\u001b[39m\u001b[38;5;132;01m%s\u001b[39;00m\u001b[38;5;124m() only accepts keyword arguments.\u001b[39m\u001b[38;5;124m\"\u001b[39m \u001b[38;5;241m%\u001b[39m py_operation_name)\n\u001b[1;32m    390\u001b[0m \u001b[38;5;66;03m# The \"self\" in this scope is referring to the BaseClient.\u001b[39;00m\n\u001b[0;32m--> 391\u001b[0m \u001b[38;5;28;01mreturn\u001b[39;00m \u001b[38;5;28;43mself\u001b[39;49m\u001b[38;5;241;43m.\u001b[39;49m\u001b[43m_make_api_call\u001b[49m\u001b[43m(\u001b[49m\u001b[43moperation_name\u001b[49m\u001b[43m,\u001b[49m\u001b[43m \u001b[49m\u001b[43mkwargs\u001b[49m\u001b[43m)\u001b[49m\n",
      "File \u001b[0;32m~/opt/anaconda3/envs/full-stack-metaflow/lib/python3.8/site-packages/botocore/client.py:719\u001b[0m, in \u001b[0;36mBaseClient._make_api_call\u001b[0;34m(self, operation_name, api_params)\u001b[0m\n\u001b[1;32m    717\u001b[0m     error_code \u001b[38;5;241m=\u001b[39m parsed_response\u001b[38;5;241m.\u001b[39mget(\u001b[38;5;124m\"\u001b[39m\u001b[38;5;124mError\u001b[39m\u001b[38;5;124m\"\u001b[39m, {})\u001b[38;5;241m.\u001b[39mget(\u001b[38;5;124m\"\u001b[39m\u001b[38;5;124mCode\u001b[39m\u001b[38;5;124m\"\u001b[39m)\n\u001b[1;32m    718\u001b[0m     error_class \u001b[38;5;241m=\u001b[39m \u001b[38;5;28mself\u001b[39m\u001b[38;5;241m.\u001b[39mexceptions\u001b[38;5;241m.\u001b[39mfrom_code(error_code)\n\u001b[0;32m--> 719\u001b[0m     \u001b[38;5;28;01mraise\u001b[39;00m error_class(parsed_response, operation_name)\n\u001b[1;32m    720\u001b[0m \u001b[38;5;28;01melse\u001b[39;00m:\n\u001b[1;32m    721\u001b[0m     \u001b[38;5;28;01mreturn\u001b[39;00m parsed_response\n",
      "\u001b[0;31mValidationError\u001b[0m: An error occurred (ValidationError) when calling the InvokeEndpoint operation: Endpoint RF-endpoint-1648171008125 of account 006988687827 not found."
     ]
    }
   ],
   "source": [
    "# https://docs.aws.amazon.com/sagemaker/latest/dg/realtime-endpoints-test-endpoints.html\n",
    "# https://docs.aws.amazon.com/cli/latest/reference/sagemaker-runtime/invoke-endpoint.html\n",
    "# https://docs.aws.amazon.com/sagemaker/latest/dg/cdf-inference.html#ir-serialization\n",
    "\n",
    "import boto3\n",
    "\n",
    "# Create a low-level client representing Amazon SageMaker Runtime\n",
    "sagemaker_runtime = boto3.client(\"sagemaker-runtime\", region_name='us-west-2')\n",
    "\n",
    "# The name of the endpoint. The name must be unique within an AWS Region in your AWS account. \n",
    "#endpoint_name='RF-endpoint-1648025507362'\n",
    "endpoint_name='RF-endpoint-1648169001436'\n",
    "# endpoint_name='regression-1646368875724-endpoint'\n",
    "endpoint_name='RF-endpoint-1648171008125'\n",
    "\n",
    "# After you deploy a model into production using SageMaker hosting \n",
    "# services, your client applications use this API to get inferences \n",
    "# from the model hosted at the specified endpoint.\n",
    "response = sagemaker_runtime.invoke_endpoint(\n",
    "                            EndpointName=endpoint_name, \n",
    "                            #Body=f\"{data}\",\n",
    "                            #Body=bytes(r'{\"instances\":' + f\"{data}\" + '}', 'utf-8'), # Replace with your own data\n",
    "                            Body=bytes(f\"{data}\", 'utf-8'), \n",
    "                            #ContentType='application/json',\n",
    "                            )\n",
    "\n",
    "# Optional - Print the response body and decode it so it is human read-able.\n",
    "print(response['Body'].read().decode('utf-8'))"
   ]
  },
  {
   "cell_type": "code",
   "execution_count": 12,
   "id": "3c421268-6514-4136-b769-8f151b5b3a89",
   "metadata": {},
   "outputs": [
    {
     "ename": "ModelError",
     "evalue": "An error occurred (ModelError) when calling the InvokeEndpoint operation: Received server error (500) from primary with message \"<!DOCTYPE HTML PUBLIC \"-//W3C//DTD HTML 3.2 Final//EN\">\n<title>500 Internal Server Error</title>\n<h1>Internal Server Error</h1>\n<p>The server encountered an internal error and was unable to complete your request. Either the server is overloaded or there is an error in the application.</p>\n\". See https://us-west-2.console.aws.amazon.com/cloudwatch/home?region=us-west-2#logEventViewer:group=/aws/sagemaker/Endpoints/RF-endpoint-1648171008125 in account 006988687827 for more information.",
     "output_type": "error",
     "traceback": [
      "\u001b[0;31m---------------------------------------------------------------------------\u001b[0m",
      "\u001b[0;31mModelError\u001b[0m                                Traceback (most recent call last)",
      "Input \u001b[0;32mIn [12]\u001b[0m, in \u001b[0;36m<cell line: 15>\u001b[0;34m()\u001b[0m\n\u001b[1;32m     11\u001b[0m endpoint_name\u001b[38;5;241m=\u001b[39m\u001b[38;5;124m'\u001b[39m\u001b[38;5;124mRF-endpoint-1648171008125\u001b[39m\u001b[38;5;124m'\u001b[39m\n\u001b[1;32m     14\u001b[0m \u001b[38;5;66;03m# csv serialization\u001b[39;00m\n\u001b[0;32m---> 15\u001b[0m response \u001b[38;5;241m=\u001b[39m sagemaker_runtime\u001b[38;5;241m.\u001b[39minvoke_endpoint(\n\u001b[1;32m     16\u001b[0m     EndpointName\u001b[38;5;241m=\u001b[39mendpoint_name,\n\u001b[1;32m     17\u001b[0m     Body\u001b[38;5;241m=\u001b[39mpd\u001b[38;5;241m.\u001b[39mDataFrame(data)\u001b[38;5;241m.\u001b[39mto_csv(header\u001b[38;5;241m=\u001b[39m\u001b[38;5;28;01mFalse\u001b[39;00m, index\u001b[38;5;241m=\u001b[39m\u001b[38;5;28;01mFalse\u001b[39;00m)\u001b[38;5;241m.\u001b[39mencode(\u001b[38;5;124m\"\u001b[39m\u001b[38;5;124mutf-8\u001b[39m\u001b[38;5;124m\"\u001b[39m),\n\u001b[1;32m     18\u001b[0m     ContentType\u001b[38;5;241m=\u001b[39m\u001b[38;5;124m\"\u001b[39m\u001b[38;5;124mtext/csv\u001b[39m\u001b[38;5;124m\"\u001b[39m,\n\u001b[1;32m     19\u001b[0m )\n\u001b[1;32m     21\u001b[0m \u001b[38;5;28mprint\u001b[39m(response[\u001b[38;5;124m\"\u001b[39m\u001b[38;5;124mBody\u001b[39m\u001b[38;5;124m\"\u001b[39m]\u001b[38;5;241m.\u001b[39mread())\n",
      "File \u001b[0;32m~/opt/anaconda3/envs/full-stack-metaflow/lib/python3.8/site-packages/botocore/client.py:391\u001b[0m, in \u001b[0;36mClientCreator._create_api_method.<locals>._api_call\u001b[0;34m(self, *args, **kwargs)\u001b[0m\n\u001b[1;32m    388\u001b[0m     \u001b[38;5;28;01mraise\u001b[39;00m \u001b[38;5;167;01mTypeError\u001b[39;00m(\n\u001b[1;32m    389\u001b[0m         \u001b[38;5;124m\"\u001b[39m\u001b[38;5;132;01m%s\u001b[39;00m\u001b[38;5;124m() only accepts keyword arguments.\u001b[39m\u001b[38;5;124m\"\u001b[39m \u001b[38;5;241m%\u001b[39m py_operation_name)\n\u001b[1;32m    390\u001b[0m \u001b[38;5;66;03m# The \"self\" in this scope is referring to the BaseClient.\u001b[39;00m\n\u001b[0;32m--> 391\u001b[0m \u001b[38;5;28;01mreturn\u001b[39;00m \u001b[38;5;28;43mself\u001b[39;49m\u001b[38;5;241;43m.\u001b[39;49m\u001b[43m_make_api_call\u001b[49m\u001b[43m(\u001b[49m\u001b[43moperation_name\u001b[49m\u001b[43m,\u001b[49m\u001b[43m \u001b[49m\u001b[43mkwargs\u001b[49m\u001b[43m)\u001b[49m\n",
      "File \u001b[0;32m~/opt/anaconda3/envs/full-stack-metaflow/lib/python3.8/site-packages/botocore/client.py:719\u001b[0m, in \u001b[0;36mBaseClient._make_api_call\u001b[0;34m(self, operation_name, api_params)\u001b[0m\n\u001b[1;32m    717\u001b[0m     error_code \u001b[38;5;241m=\u001b[39m parsed_response\u001b[38;5;241m.\u001b[39mget(\u001b[38;5;124m\"\u001b[39m\u001b[38;5;124mError\u001b[39m\u001b[38;5;124m\"\u001b[39m, {})\u001b[38;5;241m.\u001b[39mget(\u001b[38;5;124m\"\u001b[39m\u001b[38;5;124mCode\u001b[39m\u001b[38;5;124m\"\u001b[39m)\n\u001b[1;32m    718\u001b[0m     error_class \u001b[38;5;241m=\u001b[39m \u001b[38;5;28mself\u001b[39m\u001b[38;5;241m.\u001b[39mexceptions\u001b[38;5;241m.\u001b[39mfrom_code(error_code)\n\u001b[0;32m--> 719\u001b[0m     \u001b[38;5;28;01mraise\u001b[39;00m error_class(parsed_response, operation_name)\n\u001b[1;32m    720\u001b[0m \u001b[38;5;28;01melse\u001b[39;00m:\n\u001b[1;32m    721\u001b[0m     \u001b[38;5;28;01mreturn\u001b[39;00m parsed_response\n",
      "\u001b[0;31mModelError\u001b[0m: An error occurred (ModelError) when calling the InvokeEndpoint operation: Received server error (500) from primary with message \"<!DOCTYPE HTML PUBLIC \"-//W3C//DTD HTML 3.2 Final//EN\">\n<title>500 Internal Server Error</title>\n<h1>Internal Server Error</h1>\n<p>The server encountered an internal error and was unable to complete your request. Either the server is overloaded or there is an error in the application.</p>\n\". See https://us-west-2.console.aws.amazon.com/cloudwatch/home?region=us-west-2#logEventViewer:group=/aws/sagemaker/Endpoints/RF-endpoint-1648171008125 in account 006988687827 for more information."
     ]
    }
   ],
   "source": [
    "import boto3\n",
    "import pandas as pd\n",
    "\n",
    "# Create a low-level client representing Amazon SageMaker Runtime\n",
    "sagemaker_runtime = boto3.client(\"sagemaker-runtime\", region_name='us-west-2')\n",
    "\n",
    "# The name of the endpoint. The name must be unique within an AWS Region in your AWS account. \n",
    "#endpoint_name='RF-endpoint-1648025507362'\n",
    "endpoint_name='RF-endpoint-1648169001436'\n",
    "# endpoint_name='regression-1646368875724-endpoint'\n",
    "endpoint_name='RF-endpoint-1648171008125'\n",
    "\n",
    "\n",
    "# csv serialization\n",
    "response = sagemaker_runtime.invoke_endpoint(\n",
    "    EndpointName=endpoint_name,\n",
    "    Body=pd.DataFrame(data).to_csv(header=False, index=False).encode(\"utf-8\"),\n",
    "    ContentType=\"text/csv\",\n",
    ")\n",
    "\n",
    "print(response[\"Body\"].read())"
   ]
  },
  {
   "cell_type": "code",
   "execution_count": null,
   "id": "772778c9-9e0a-4cd3-b55b-c36adc445e6c",
   "metadata": {},
   "outputs": [],
   "source": []
  },
  {
   "cell_type": "code",
   "execution_count": null,
   "id": "87e824be-a1c0-4d13-874f-9a70c8524a66",
   "metadata": {},
   "outputs": [],
   "source": []
  },
  {
   "cell_type": "code",
   "execution_count": 33,
   "id": "bb7386aa-332e-4141-949e-db7988bc2361",
   "metadata": {},
   "outputs": [
    {
     "data": {
      "text/plain": [
       "b'[[ 1. ]\\n [ 2. ]\\n [ 5.2]\\n [-1.2]]'"
      ]
     },
     "execution_count": 33,
     "metadata": {},
     "output_type": "execute_result"
    }
   ],
   "source": [
    "bytes(f\"{data}\", 'utf-8')"
   ]
  },
  {
   "cell_type": "code",
   "execution_count": 13,
   "id": "71c6505a-280f-4e95-b2df-405fbb071c22",
   "metadata": {},
   "outputs": [
    {
     "data": {
      "text/plain": [
       "('{\"instances\":[[ 1. ]\\n [ 2. ]\\n [ 5.2]\\n [-1.2]]}', 'utf-8')"
      ]
     },
     "execution_count": 13,
     "metadata": {},
     "output_type": "execute_result"
    }
   ],
   "source": [
    "'{\"instances\":' + f\"{data}\" + '}', 'utf-8'"
   ]
  },
  {
   "cell_type": "code",
   "execution_count": 17,
   "id": "e3abbf62-9ab5-4e3e-b358-104ad0e69f43",
   "metadata": {},
   "outputs": [
    {
     "data": {
      "text/plain": [
       "b'{\"instances\":[[ 1. ]\\n [ 2. ]\\n [ 5.2]\\n [-1.2]]}'"
      ]
     },
     "execution_count": 17,
     "metadata": {},
     "output_type": "execute_result"
    }
   ],
   "source": [
    "bytes(r'{\"instances\":' + f\"{data}\" + '}', 'utf-8')"
   ]
  },
  {
   "cell_type": "code",
   "execution_count": null,
   "id": "9e448094-ba0a-44f6-95c3-ff50bc457650",
   "metadata": {},
   "outputs": [],
   "source": [
    "import ipywidgets as widgets"
   ]
  },
  {
   "cell_type": "code",
   "execution_count": null,
   "id": "0ac42784-6a89-4dda-addf-74c62e986998",
   "metadata": {},
   "outputs": [],
   "source": [
    "widgets.BoundedFloatText(\n",
    "    value=7.5,\n",
    "    min=0,\n",
    "    max=10.0,\n",
    "    step=0.1,\n",
    "    description='Text:',\n",
    "    disabled=False\n",
    ")"
   ]
  },
  {
   "cell_type": "markdown",
   "id": "c07e1d73-7cdc-4c9d-ba9d-ab388cbb0a5f",
   "metadata": {},
   "source": [
    "## boat"
   ]
  },
  {
   "cell_type": "code",
   "execution_count": null,
   "id": "025034b7-ecbd-4415-bcec-a1df86e27432",
   "metadata": {},
   "outputs": [],
   "source": [
    "test_inp = {'instances': [[10,124,12,45,43]+[0]*15],\n",
    "                'mask' : token_mapping['token2id'].get('mask', None)}"
   ]
  },
  {
   "cell_type": "code",
   "execution_count": null,
   "id": "6d92a40c-ce25-447e-9116-dd0aee912535",
   "metadata": {},
   "outputs": [],
   "source": [
    "data = [[10,124,12,45,43]+[0]*15]"
   ]
  },
  {
   "cell_type": "code",
   "execution_count": null,
   "id": "09328850-913e-453c-a4e8-64cc9b7d6aaf",
   "metadata": {},
   "outputs": [],
   "source": [
    "# https://docs.aws.amazon.com/sagemaker/latest/dg/realtime-endpoints-test-endpoints.html\n",
    "# https://docs.aws.amazon.com/cli/latest/reference/sagemaker-runtime/invoke-endpoint.html\n",
    "# https://docs.aws.amazon.com/sagemaker/latest/dg/cdf-inference.html#ir-serialization\n",
    "\n",
    "import boto3\n",
    "\n",
    "# Create a low-level client representing Amazon SageMaker Runtime\n",
    "sagemaker_runtime = boto3.client(\"sagemaker-runtime\", region_name='us-west-2')\n",
    "\n",
    "# The name of the endpoint. The name must be unique within an AWS Region in your AWS account. \n",
    "endpoint_name='recommendation-1646891533365-endpoint'\n",
    "# endpoint_name='regression-1646368875724-endpoint'\n",
    "\n",
    "# After you deploy a model into production using SageMaker hosting \n",
    "# services, your client applications use this API to get inferences \n",
    "# from the model hosted at the specified endpoint.\n",
    "response = sagemaker_runtime.invoke_endpoint(\n",
    "                            EndpointName=endpoint_name, \n",
    "                            Body=bytes('{\"instances\":' + f\"{data}\" + '}', 'utf-8'), # Replace with your own data\n",
    "                            ContentType='application/json',\n",
    "                            )\n",
    "\n",
    "# Optional - Print the response body and decode it so it is human read-able.\n",
    "print(response['Body'].read().decode('utf-8'))"
   ]
  },
  {
   "cell_type": "code",
   "execution_count": null,
   "id": "d606d426-5f34-4d3b-bfe5-4c3f5ae7ea48",
   "metadata": {},
   "outputs": [],
   "source": []
  }
 ],
 "metadata": {
  "kernelspec": {
   "display_name": "Python [conda env:full-stack-metaflow] *",
   "language": "python",
   "name": "conda-env-full-stack-metaflow-py"
  },
  "language_info": {
   "codemirror_mode": {
    "name": "ipython",
    "version": 3
   },
   "file_extension": ".py",
   "mimetype": "text/x-python",
   "name": "python",
   "nbconvert_exporter": "python",
   "pygments_lexer": "ipython3",
   "version": "3.8.10"
  }
 },
 "nbformat": 4,
 "nbformat_minor": 5
}
