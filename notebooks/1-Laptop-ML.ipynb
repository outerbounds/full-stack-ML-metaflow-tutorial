{
 "cells": [
  {
   "cell_type": "markdown",
   "id": "767f5035-57e9-4125-959f-0697b11803a3",
   "metadata": {},
   "source": [
    "# Lesson 1: Laptop Machine Learning"
   ]
  },
  {
   "cell_type": "markdown",
   "id": "9e7fa21e-0a75-4d76-83b0-909fbf1ce63e",
   "metadata": {},
   "source": [
    "## Learning objectives of this lesson"
   ]
  },
  {
   "cell_type": "markdown",
   "id": "cb7fd5ce-269b-4163-bd85-842cde51b93b",
   "metadata": {},
   "source": [
    "* A quick refresher on what machine learning is\n",
    "* Refresh ourselves as to some of the ways to do machine learning in Python\n",
    "* Build random forests with scikit-learn\n",
    "* Build boosted trees with xgboost\n",
    "* Build neural networks with keras and tensorflow\n",
    "\n",
    "The purpose of this refresher is (1) to set the scene and (2) so that we have some typical ML code that we can then productionize!"
   ]
  },
  {
   "cell_type": "markdown",
   "id": "4949c5aa-b5af-4000-93db-836c0fce396a",
   "metadata": {},
   "source": [
    "## What is Machine Learning?"
   ]
  },
  {
   "cell_type": "markdown",
   "id": "15aa9499-0a04-47b6-88be-802e5c0366f2",
   "metadata": {},
   "source": [
    "Machine learning is the science and art of teaching computers to \"learn\" patterns from data. In some ways, we can consider it a subdiscipline of data science, which is often sliced into\n",
    "\n",
    "* Descriptive analytics (BI, classic analytics, dashboards),\n",
    "* Predictive analytics (machine learning), and\n",
    "* Prescriptive analytics (decision science).\n",
    "\n",
    "Machine learning itself is often sliced into\n",
    "\n",
    "* Supervised learning (predicting a label: classification, or a continuous variable),\n",
    "* Unsupervised learning (pattern recognition for unlabelled data, a paradigm being clustering),\n",
    "* Reinforcement learning, in which software agents are placed in constrained environments and given “rewards” and “punishments” based on their activity (AlphaGo Zero, self-driving cars). "
   ]
  },
  {
   "cell_type": "markdown",
   "id": "8fcf3f84-7698-4c4c-8dc1-1335231ea219",
   "metadata": {},
   "source": [
    "## Machine Learning: Classification"
   ]
  },
  {
   "cell_type": "markdown",
   "id": "6538b92d-49cc-44f8-a000-f7b992940802",
   "metadata": {},
   "source": [
    "So we're now going to jump in and build our first machine learning model. It is the (now) famous Iris dataset, where each row consists of measurements of a flower and the target variable (the one you're trying to predict) is the species of flower. \n",
    "\n",
    "**On terminology:**\n",
    "\n",
    "- The **target variable** is the variable you are trying to predict;\n",
    "- Other variables are known as **features** (or **predictor variables**), the features that you're using to predict the target variable.\n",
    "\n",
    "**On practice and procedure:**\n",
    "\n",
    "To build machine learning models, you require two things:\n",
    "\n",
    "- **Training data** (which the algorithms learn from) and\n",
    "- An **evaluation metric**, such as accuracy.\n",
    "\n",
    "For more on these, check out Cassie Kozyrkov's wonderful articles [Forget the robots! Here’s how AI will get you](https://towardsdatascience.com/forget-the-robots-heres-how-ai-will-get-you-b674c28d6a34) and [Machine learning — Is the emperor wearing clothes?](https://medium.com/@kozyrkov/machine-learning-is-the-emperor-wearing-clothes-928fe406fe09).\n",
    "\n",
    "After training your algorithm on your training data, you can use it to make predictions on a _labelled_ **holdout** (or **test**) set and compare those predictions with the known labels to compute how well it performs.\n",
    "\n",
    "You can also use a technique called **(k-fold) cross validation**, where you train and test several times using different holdout sets and compute the relevant accuracies (see more [here](https://en.wikipedia.org/wiki/Cross-validation_(statistics))). Image from Wikipedia:\n",
    "\n",
    "![flow0](../img/cv.png)"
   ]
  },
  {
   "cell_type": "markdown",
   "id": "21026c7e-385d-41cb-9d4e-07dbdcce86a5",
   "metadata": {},
   "source": [
    "Also note that the ML ingredients of *training data* and *evaluation* metric can introduce all type of biases and other problems into your ML algorithms, for example:\n",
    "\n",
    "* If your training data is biased, your model more than likely will be;\n",
    "* If you optimize solely for accuracy, what happens to groups that are under-represented in your training data?\n",
    "\n",
    "The latter challenge follows from the broader class of problems we face when optimizing anything, as detailed by Rachel Thomas in [\"The problem with metrics is a big problem for AI\"](https://www.fast.ai/2019/09/24/metrics/):\n",
    "\n",
    "<blockquote class=\"twitter-tweet\"><p lang=\"en\" dir=\"ltr\">The problem with metrics is a big problem for AI<br>- Most AI approaches optimize metrics<br>- Any metric is just a proxy<br>- Metrics can, and will, be gamed<br>- Metrics overemphasize short-term concerns<br>- Online metrics are gathered in highly addictive environment</a></p>&mdash; Rachel Thomas (@math_rachel) <a href=\"https://twitter.com/math_rachel/status/1176606580264951810?ref_src=twsrc%5Etfw\">September 24, 2019</a></blockquote> <script async src=\"https://platform.twitter.com/widgets.js\" charset=\"utf-8\"></script> "
   ]
  },
  {
   "cell_type": "markdown",
   "id": "53389bf1-0106-4720-958f-bb24f3f7de29",
   "metadata": {},
   "source": [
    "### Typical Machine Learning code in Python"
   ]
  },
  {
   "cell_type": "markdown",
   "id": "7da9925b-c119-47d2-8689-1d4bb91a3e50",
   "metadata": {},
   "source": [
    "We'll now show how to build some typical ML models in Python for\n",
    "\n",
    "* random forests,\n",
    "* boosted trees, and\n",
    "* neural networks (deep learning).\n",
    "\n",
    "The intention is not to be exhaustive but rather to show typical code for the 3 most practical types of models that you will write. We won't go into the details of all of these models but we will link to relevant resources so you can explore to your heart's content!"
   ]
  },
  {
   "cell_type": "markdown",
   "id": "df539285-2961-44af-b913-e4fd8c93f05e",
   "metadata": {},
   "source": [
    "#### Random Forests"
   ]
  },
  {
   "cell_type": "markdown",
   "id": "7275a72d-9c02-4e16-ba74-2291e66b4bf8",
   "metadata": {},
   "source": [
    "[Random forests](https://scikit-learn.org/stable/modules/ensemble.html#forest) are both powerful and commonly use ML algorithms. In the following, we\n",
    "\n",
    "* Load our dataset,\n",
    "* Instantiate three models: decision tree, random forest, and extra trees classifier, and\n",
    "* Perform cross-validation for each model\n",
    "\n",
    "Note that we're building more than just random forests here but we couldn't help ourselves as scikit-learn makes it so easy! These examples are from the [scikit-learn documentation](https://scikit-learn.org/stable/modules/ensemble.html#forest)."
   ]
  },
  {
   "cell_type": "code",
   "execution_count": null,
   "id": "9decbcc8-ef14-4081-863e-766ea206052f",
   "metadata": {},
   "outputs": [],
   "source": [
    "#Import scikit-learn dataset library\n",
    "from sklearn import datasets\n",
    "from sklearn.model_selection import cross_val_score\n",
    "from sklearn.ensemble import RandomForestClassifier\n",
    "from sklearn.ensemble import ExtraTreesClassifier\n",
    "from sklearn.tree import DecisionTreeClassifier\n",
    "\n",
    "#Load dataset\n",
    "iris = datasets.load_iris()\n",
    "X = iris.data\n",
    "y = iris.target\n",
    "\n",
    "clf_dt = DecisionTreeClassifier(max_depth=None, min_samples_split=2,\n",
    "    random_state=0)\n",
    "scores_dt = cross_val_score(clf_dt, X, y, cv=5)\n",
    "print(scores_dt)\n",
    "\n",
    "\n",
    "clf_rf = RandomForestClassifier(n_estimators=10, max_depth=None,\n",
    "    min_samples_split=2, random_state=0)\n",
    "scores_rf = cross_val_score(clf_rf, X, y, cv=5)\n",
    "print(scores_rf)\n",
    "\n",
    "\n",
    "clf_et = ExtraTreesClassifier(n_estimators=10, max_depth=None,\n",
    "    min_samples_split=2, random_state=0)\n",
    "scores_et = cross_val_score(clf_et, X, y, cv=5)\n",
    "print(scores_et)\n"
   ]
  },
  {
   "cell_type": "markdown",
   "id": "a4636c5c-511f-4de1-9218-45d8578019d3",
   "metadata": {},
   "source": [
    "### Boosted trees\n",
    "\n"
   ]
  },
  {
   "cell_type": "markdown",
   "id": "49546aba-ded5-421f-a8b7-21827a995371",
   "metadata": {},
   "source": [
    "[Boosted trees](https://en.wikipedia.org/wiki/Gradient_boosting) are similar to random forests, in that they're both ensembles of decision trees. They are built differently, however. You can read [here](https://medium.com/@aravanshad/gradient-boosting-versus-random-forest-cfa3fa8f0d80) about the differences.\n",
    "\n",
    "We'll use XGBoost, which is a popular package for boosted trees:"
   ]
  },
  {
   "cell_type": "code",
   "execution_count": null,
   "id": "a04f5ea0-db93-4589-97ee-86f23da1a5d4",
   "metadata": {},
   "outputs": [],
   "source": [
    "import xgboost as xgb\n",
    "# read in data\n",
    "dtrain = xgb.DMatrix('../data/agaricus.txt.train')\n",
    "dtest = xgb.DMatrix('../data/agaricus.txt.test')\n",
    "# specify parameters\n",
    "param = {'max_depth':2, 'eta':1, 'objective':'binary:logistic', 'eval_metric':'logloss'}\n",
    "num_round = 2\n",
    "bst = xgb.train(param, dtrain, num_round)\n",
    "# make prediction\n",
    "preds = bst.predict(dtest)\n",
    "print(preds)"
   ]
  },
  {
   "cell_type": "markdown",
   "id": "2e82c397-d206-440f-a85e-ebc8a53fbe87",
   "metadata": {},
   "source": [
    "### Neural nets and deep learning"
   ]
  },
  {
   "cell_type": "markdown",
   "id": "97ed7261-7263-44a0-af9a-cbb54533869e",
   "metadata": {},
   "source": [
    "The third type of algorithm we'll now build is a neural network (also known as deep learning). These are:\n",
    "\n",
    "\n",
    "- ML models inspired by biological neural networks.\n",
    "- Performant for image classification, NLP, and more.\n",
    "\n",
    "\n",
    "\n",
    "\n",
    "![flow0](../img/george.jpg)\n",
    "\n",
    "Image from [here](https://www.pnas.org/content/116/4/1074/tab-figures-data)."
   ]
  },
  {
   "cell_type": "markdown",
   "id": "e7f57af1-9ce6-4ade-989e-a5b33195440a",
   "metadata": {},
   "source": [
    "When making predictions with neural networks, we use a procedure called **forward propagation**. When training neural networks (that is, finding the parameters, called weights), we use a procedure called **backpropogation**. To put it another way,\n",
    "\n",
    "- **forward propagation** is for prediction (`.predict()`);\n",
    "- **backpropogation** is for training (`.fit()`).\n"
   ]
  },
  {
   "cell_type": "markdown",
   "id": "8af72baa-412d-4b5d-8a9b-49a9fcd635c1",
   "metadata": {},
   "source": [
    "\n",
    "The following is (somewhat) typical deep learning code. We're using Keras & TensorFlow (and the example is based on the [Keras documentation](https://keras.io/examples/vision/mnist_convnet/)) but you have many other options, such as PyTorch, fast.ai, JAX, and/or PyTorch Lightning."
   ]
  },
  {
   "cell_type": "code",
   "execution_count": null,
   "id": "2718e0ab-b848-4a0d-af38-2d1e9fc0672f",
   "metadata": {},
   "outputs": [],
   "source": [
    "import numpy as np\n",
    "from tensorflow import keras\n",
    "from tensorflow.keras import layers\n",
    "\n",
    "# Model / data parameters\n",
    "num_classes = 10\n",
    "input_shape = (28, 28, 1)\n",
    "\n",
    "# the data, split between train and test sets\n",
    "(x_train, y_train), (x_test, y_test) = keras.datasets.mnist.load_data()\n",
    "\n",
    "# Scale images to the [0, 1] range\n",
    "x_train = x_train.astype(\"float32\") / 255\n",
    "x_test = x_test.astype(\"float32\") / 255\n",
    "# Make sure images have shape (28, 28, 1)\n",
    "x_train = np.expand_dims(x_train, -1)\n",
    "x_test = np.expand_dims(x_test, -1)\n",
    "print(\"x_train shape:\", x_train.shape)\n",
    "print(x_train.shape[0], \"train samples\")\n",
    "print(x_test.shape[0], \"test samples\")\n",
    "\n",
    "\n",
    "# convert class vectors to binary class matrices\n",
    "y_train = keras.utils.to_categorical(y_train, num_classes)\n",
    "y_test = keras.utils.to_categorical(y_test, num_classes)\n",
    "\n",
    "model = keras.Sequential(\n",
    "    [\n",
    "        keras.Input(shape=input_shape),\n",
    "        layers.Conv2D(32, kernel_size=(3, 3), activation=\"relu\"),\n",
    "        layers.MaxPooling2D(pool_size=(2, 2)),\n",
    "        layers.Conv2D(64, kernel_size=(3, 3), activation=\"relu\"),\n",
    "        layers.MaxPooling2D(pool_size=(2, 2)),\n",
    "        layers.Flatten(),\n",
    "        layers.Dropout(0.5),\n",
    "        layers.Dense(num_classes, activation=\"softmax\"),\n",
    "    ]\n",
    ")\n",
    "\n",
    "model.summary()\n",
    "\n"
   ]
  },
  {
   "cell_type": "code",
   "execution_count": null,
   "id": "d2b376cd-62a5-420e-947a-babfa55d1261",
   "metadata": {},
   "outputs": [],
   "source": [
    "batch_size = 128\n",
    "epochs = 15\n",
    "\n",
    "model.compile(loss=\"categorical_crossentropy\", optimizer=\"adam\", metrics=[\"accuracy\"])\n",
    "\n",
    "model.fit(x_train, y_train, batch_size=batch_size, epochs=epochs, validation_split=0.1)"
   ]
  },
  {
   "cell_type": "code",
   "execution_count": null,
   "id": "2fba1ae3-8e0d-498a-9b6a-1e232b00fd8a",
   "metadata": {},
   "outputs": [],
   "source": [
    "score = model.evaluate(x_test, y_test, verbose=0)\n",
    "print(\"Test loss:\", score[0])\n",
    "print(\"Test accuracy:\", score[1])\n"
   ]
  },
  {
   "cell_type": "markdown",
   "id": "e8c21dec-0d56-4220-bf7c-f673c9077af2",
   "metadata": {},
   "source": [
    "### Lesson Recap"
   ]
  },
  {
   "cell_type": "markdown",
   "id": "9b0d5b1b-1ffa-41de-99ab-895e1b7ce579",
   "metadata": {},
   "source": [
    "In this lesson, we covered the following:\n",
    "\n",
    "* A quick refresher on what machine learning is\n",
    "* Refreshing ourselves as to some of the ways to do machine learning in Python\n",
    "* Building random forests with scikit-learn\n",
    "* Building boosted trees with xgboost\n",
    "* Building neural networks with keras and tensorflow\n",
    "\n",
    "In the next lesson, we'll take these machine learning workflows and see what it means to productionize them!"
   ]
  }
 ],
 "metadata": {
  "kernelspec": {
   "display_name": "Python [conda env:full-stack-metaflow] *",
   "language": "python",
   "name": "conda-env-full-stack-metaflow-py"
  },
  "language_info": {
   "codemirror_mode": {
    "name": "ipython",
    "version": 3
   },
   "file_extension": ".py",
   "mimetype": "text/x-python",
   "name": "python",
   "nbconvert_exporter": "python",
   "pygments_lexer": "ipython3",
   "version": "3.8.13"
  }
 },
 "nbformat": 4,
 "nbformat_minor": 5
}
