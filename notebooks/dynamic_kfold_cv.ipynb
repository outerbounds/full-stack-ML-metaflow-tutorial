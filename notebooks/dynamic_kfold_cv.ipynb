{
 "cells": [
  {
   "cell_type": "code",
   "execution_count": 10,
   "id": "f54b198f-eca4-41ce-9d9a-3d72c11b6e77",
   "metadata": {},
   "outputs": [
    {
     "name": "stdout",
     "output_type": "stream",
     "text": [
      "Overwriting ../flows/local/kfold_flow.py\n"
     ]
    }
   ],
   "source": [
    "%%writefile ../flows/local/kfold_flow.py\n",
    "from metaflow import FlowSpec, step, Parameter\n",
    "\n",
    "class KFoldFlow(FlowSpec):\n",
    "    \"\"\"\n",
    "    Template for Metaflows.\n",
    "    You can choose which steps suit your workflow.\n",
    "    We have included the following common steps:\n",
    "    - Start\n",
    "    - Build and Score models\n",
    "    \"\"\" \n",
    "    \n",
    "    # pass Parameter assignment to the flow at runtime\n",
    "    k = Parameter(\"k\", default=10)\n",
    "\n",
    "    @step\n",
    "    def start(self):\n",
    "        from sklearn.datasets import make_classification \n",
    "        self.features, self.labels = make_classification(n_samples = 100)\n",
    "        self.next(self.kfold_split)\n",
    "        \n",
    "    @step\n",
    "    def kfold_split(self):\n",
    "        from sklearn.model_selection import KFold\n",
    "        kf = KFold(n_splits=self.k) # split into \"k\" folds based on Parameter defined at runtime\n",
    "        self.split = [(train_idxs, valid_idx) for train_idxs, valid_idx in kf.split(self.features)]\n",
    "        self.next(self.build_and_score_model, foreach=\"split\") \n",
    "\n",
    "    @step\n",
    "    def build_and_score_model(self):\n",
    "        from sklearn.linear_model import LogisticRegression\n",
    "        train_x, valid_x = self.features[self.input[0]], self.features[self.input[1]]\n",
    "        train_y, valid_y = self.labels[self.input[0]], self.labels[self.input[1]]\n",
    "        lr = LogisticRegression().fit(train_x, train_y)\n",
    "        self.score = lr.score(valid_x, valid_y)\n",
    "        self.next(self.join)\n",
    "        \n",
    "    @step\n",
    "    def join(self, inputs):\n",
    "        import numpy as np\n",
    "        self.results = [i.score for i in inputs]\n",
    "        out_msg = f\"{round(np.mean(self.results), 3)} +/- {round(np.std(self.results), 3)}\"\n",
    "        print(f\"mean +/- std across folds is \" + out_msg)\n",
    "        self.next(self.end)\n",
    "    \n",
    "    @step\n",
    "    def end(self):\n",
    "        pass\n",
    "\n",
    "\n",
    "if __name__ == \"__main__\":\n",
    "    KFoldFlow()"
   ]
  },
  {
   "cell_type": "markdown",
   "id": "a428c657-6f0d-41a6-a3e3-8340799cd4c8",
   "metadata": {},
   "source": [
    "Execute the flow from the command line with:\n",
    "\n",
    "```bash\n",
    "python ../flows/cloud/kfold_flow.py run --k 5\n",
    "```"
   ]
  }
 ],
 "metadata": {
  "kernelspec": {
   "display_name": "Python 3 (ipykernel)",
   "language": "python",
   "name": "python3"
  },
  "language_info": {
   "codemirror_mode": {
    "name": "ipython",
    "version": 3
   },
   "file_extension": ".py",
   "mimetype": "text/x-python",
   "name": "python",
   "nbconvert_exporter": "python",
   "pygments_lexer": "ipython3",
   "version": "3.8.10"
  }
 },
 "nbformat": 4,
 "nbformat_minor": 5
}
